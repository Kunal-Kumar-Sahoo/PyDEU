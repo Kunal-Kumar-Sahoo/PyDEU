{
  "cells": [
    {
      "cell_type": "markdown",
      "metadata": {
        "id": "OCztOct1mvZa"
      },
      "source": [
        "# Python Data Types\n",
        "\n",
        "* Data types\n",
        "    * Numbers\n",
        "    * Strings\n",
        "    * Printing\n",
        "    * Lists\n",
        "    * Dictionaries\n",
        "    * Booleans\n",
        "    * Tuples \n",
        "    * Sets"
      ]
    },
    {
      "cell_type": "markdown",
      "metadata": {
        "id": "IO346xiHmvZe"
      },
      "source": [
        "## Data types\n",
        "\n",
        "### Numbers"
      ]
    },
    {
      "cell_type": "code",
      "execution_count": 1,
      "metadata": {
        "id": "n5Rdjc-zmvZf"
      },
      "outputs": [],
      "source": [
        "#shift + enterr  == Execution \n",
        "#ESC + A  == Add cell above \n",
        "#ESC + B = below"
      ]
    },
    {
      "cell_type": "code",
      "execution_count": 2,
      "metadata": {
        "id": "cyr4I-U1mvZg"
      },
      "outputs": [],
      "source": [
        "x=7.5"
      ]
    },
    {
      "cell_type": "code",
      "execution_count": 3,
      "metadata": {
        "colab": {
          "base_uri": "https://localhost:8080/",
          "height": 0
        },
        "id": "Qhb7Ne0HmvZh",
        "outputId": "f3ac2a58-5978-437b-d47f-54fff5f282d3"
      },
      "outputs": [
        {
          "output_type": "execute_result",
          "data": {
            "text/plain": [
              "7.5"
            ]
          },
          "metadata": {},
          "execution_count": 3
        }
      ],
      "source": [
        "x"
      ]
    },
    {
      "cell_type": "code",
      "execution_count": 4,
      "metadata": {
        "colab": {
          "base_uri": "https://localhost:8080/",
          "height": 0
        },
        "id": "x5HSx_wpmvZh",
        "outputId": "7bc5fef7-ce47-40ba-cfc7-100869aee22f"
      },
      "outputs": [
        {
          "output_type": "stream",
          "name": "stdout",
          "text": [
            "4\n"
          ]
        }
      ],
      "source": [
        "y=4\n",
        "print(y)"
      ]
    },
    {
      "cell_type": "code",
      "execution_count": 5,
      "metadata": {
        "colab": {
          "base_uri": "https://localhost:8080/",
          "height": 0
        },
        "id": "qXZ2qktTmvZi",
        "outputId": "db01a0b6-0861-41c7-8cf3-b095bde75268"
      },
      "outputs": [
        {
          "output_type": "execute_result",
          "data": {
            "text/plain": [
              "int"
            ]
          },
          "metadata": {},
          "execution_count": 5
        }
      ],
      "source": [
        "x=5\n",
        "type(x)"
      ]
    },
    {
      "cell_type": "code",
      "execution_count": 6,
      "metadata": {
        "id": "e4qkDsFrmvZj"
      },
      "outputs": [],
      "source": [
        "x=6.5"
      ]
    },
    {
      "cell_type": "code",
      "execution_count": 7,
      "metadata": {
        "colab": {
          "base_uri": "https://localhost:8080/",
          "height": 0
        },
        "id": "OPfF6O_ymvZj",
        "outputId": "78c2b2ed-a1a6-45e1-fab8-31e74dabae1e"
      },
      "outputs": [
        {
          "output_type": "execute_result",
          "data": {
            "text/plain": [
              "float"
            ]
          },
          "metadata": {},
          "execution_count": 7
        }
      ],
      "source": [
        "type(x)"
      ]
    },
    {
      "cell_type": "code",
      "execution_count": 8,
      "metadata": {
        "id": "dygclQLRmvZk"
      },
      "outputs": [],
      "source": [
        "z=x+y     #x=6.5 y=4   4.0"
      ]
    },
    {
      "cell_type": "code",
      "execution_count": 9,
      "metadata": {
        "colab": {
          "base_uri": "https://localhost:8080/",
          "height": 0
        },
        "id": "0kQRJb4MmvZk",
        "outputId": "0d255535-c2bd-46e2-fdb3-ecf07eb2c5e8"
      },
      "outputs": [
        {
          "output_type": "execute_result",
          "data": {
            "text/plain": [
              "10.5"
            ]
          },
          "metadata": {},
          "execution_count": 9
        }
      ],
      "source": [
        "z"
      ]
    },
    {
      "cell_type": "code",
      "execution_count": 10,
      "metadata": {
        "colab": {
          "base_uri": "https://localhost:8080/",
          "height": 0
        },
        "id": "J8xtViHmmvZl",
        "outputId": "ed91ad7c-284f-413b-945a-062bbe5911c4"
      },
      "outputs": [
        {
          "output_type": "stream",
          "name": "stdout",
          "text": [
            "<class 'float'>\n"
          ]
        }
      ],
      "source": [
        "print(type(z))"
      ]
    },
    {
      "cell_type": "code",
      "execution_count": 11,
      "metadata": {
        "id": "9G6mnBKEmvZl"
      },
      "outputs": [],
      "source": [
        "x=10;y=5.5"
      ]
    },
    {
      "cell_type": "code",
      "execution_count": 12,
      "metadata": {
        "id": "XwH13420mvZm"
      },
      "outputs": [],
      "source": [
        "x=10.5;y=\"5.5\""
      ]
    },
    {
      "cell_type": "code",
      "execution_count": 13,
      "metadata": {
        "colab": {
          "base_uri": "https://localhost:8080/",
          "height": 0
        },
        "id": "V7vjS1GqmvZm",
        "outputId": "d17095e1-7a96-4a65-c6d9-187447889aab"
      },
      "outputs": [
        {
          "output_type": "execute_result",
          "data": {
            "text/plain": [
              "16.0"
            ]
          },
          "metadata": {},
          "execution_count": 13
        }
      ],
      "source": [
        "z=x+float(y)\n",
        "z"
      ]
    },
    {
      "cell_type": "code",
      "execution_count": 14,
      "metadata": {
        "id": "ni8kZfYimvZm"
      },
      "outputs": [],
      "source": [
        "z=str(x)+y"
      ]
    },
    {
      "cell_type": "code",
      "execution_count": 15,
      "metadata": {
        "colab": {
          "base_uri": "https://localhost:8080/",
          "height": 35
        },
        "id": "E9SnCnuPmvZn",
        "outputId": "ffb458b0-c354-4de6-d853-c45a3b8799a9"
      },
      "outputs": [
        {
          "output_type": "execute_result",
          "data": {
            "application/vnd.google.colaboratory.intrinsic+json": {
              "type": "string"
            },
            "text/plain": [
              "'10.55.5'"
            ]
          },
          "metadata": {},
          "execution_count": 15
        }
      ],
      "source": [
        "z"
      ]
    },
    {
      "cell_type": "code",
      "execution_count": 16,
      "metadata": {
        "colab": {
          "base_uri": "https://localhost:8080/",
          "height": 0
        },
        "id": "uOzbOILRmvZn",
        "outputId": "285d8361-7b4d-4901-c8be-e03d0e9aebd2"
      },
      "outputs": [
        {
          "output_type": "stream",
          "name": "stdout",
          "text": [
            "<class 'str'>\n"
          ]
        }
      ],
      "source": [
        "print(type(z))"
      ]
    },
    {
      "cell_type": "code",
      "execution_count": 17,
      "metadata": {
        "colab": {
          "base_uri": "https://localhost:8080/",
          "height": 35
        },
        "id": "Gy7qxFBdmvZn",
        "outputId": "c37e9d07-636e-4030-f64c-c797b8ad68ab"
      },
      "outputs": [
        {
          "output_type": "execute_result",
          "data": {
            "application/vnd.google.colaboratory.intrinsic+json": {
              "type": "string"
            },
            "text/plain": [
              "'10.55.5'"
            ]
          },
          "metadata": {},
          "execution_count": 17
        }
      ],
      "source": [
        "z"
      ]
    },
    {
      "cell_type": "code",
      "execution_count": 18,
      "metadata": {
        "colab": {
          "base_uri": "https://localhost:8080/",
          "height": 0
        },
        "id": "E43ebOUfmvZn",
        "outputId": "de9cfb40-93cb-41f3-a75c-8e2410efecdc"
      },
      "outputs": [
        {
          "output_type": "execute_result",
          "data": {
            "text/plain": [
              "12.5"
            ]
          },
          "metadata": {},
          "execution_count": 18
        }
      ],
      "source": [
        "8+4.5"
      ]
    },
    {
      "cell_type": "code",
      "execution_count": 19,
      "metadata": {
        "colab": {
          "base_uri": "https://localhost:8080/",
          "height": 0
        },
        "id": "3kEhrd7nmvZo",
        "outputId": "f361e57b-872d-4829-9dee-3652b3d72cf6"
      },
      "outputs": [
        {
          "output_type": "execute_result",
          "data": {
            "text/plain": [
              "str"
            ]
          },
          "metadata": {},
          "execution_count": 19
        }
      ],
      "source": [
        "type(z)"
      ]
    },
    {
      "cell_type": "code",
      "execution_count": 20,
      "metadata": {
        "colab": {
          "base_uri": "https://localhost:8080/",
          "height": 200
        },
        "id": "nezy-lwDmvZo",
        "outputId": "af3f57b3-62f2-47df-88d4-dbb4b377f3dd"
      },
      "outputs": [
        {
          "output_type": "error",
          "ename": "NameError",
          "evalue": "ignored",
          "traceback": [
            "\u001b[0;31m---------------------------------------------------------------------------\u001b[0m",
            "\u001b[0;31mNameError\u001b[0m                                 Traceback (most recent call last)",
            "\u001b[0;32m<ipython-input-20-75999b84544c>\u001b[0m in \u001b[0;36m<module>\u001b[0;34m()\u001b[0m\n\u001b[0;32m----> 1\u001b[0;31m \u001b[0mm\u001b[0m\u001b[0;34m=\u001b[0m\u001b[0mr\u001b[0m\u001b[0;34m+\u001b[0m\u001b[0ms\u001b[0m\u001b[0;34m\u001b[0m\u001b[0;34m\u001b[0m\u001b[0m\n\u001b[0m\u001b[1;32m      2\u001b[0m \u001b[0mprint\u001b[0m\u001b[0;34m(\u001b[0m\u001b[0;34m\"m:\"\u001b[0m\u001b[0;34m,\u001b[0m\u001b[0mm\u001b[0m\u001b[0;34m)\u001b[0m\u001b[0;34m\u001b[0m\u001b[0;34m\u001b[0m\u001b[0m\n\u001b[1;32m      3\u001b[0m \u001b[0mr\u001b[0m\u001b[0;34m\u001b[0m\u001b[0;34m\u001b[0m\u001b[0m\n",
            "\u001b[0;31mNameError\u001b[0m: name 'r' is not defined"
          ]
        }
      ],
      "source": [
        "m=r+s\n",
        "print(\"m:\",m)\n",
        "r"
      ]
    },
    {
      "cell_type": "code",
      "execution_count": 21,
      "metadata": {
        "id": "qZMKPasGmvZo"
      },
      "outputs": [],
      "source": [
        "r=5"
      ]
    },
    {
      "cell_type": "code",
      "execution_count": 22,
      "metadata": {
        "id": "O5N4M_zemvZp"
      },
      "outputs": [],
      "source": [
        "s=6"
      ]
    },
    {
      "cell_type": "code",
      "execution_count": 23,
      "metadata": {
        "colab": {
          "base_uri": "https://localhost:8080/",
          "height": 0
        },
        "id": "m9IeJ0AZmvZp",
        "outputId": "daad2e7b-7c64-4fb1-e604-1a2c4fac8430"
      },
      "outputs": [
        {
          "output_type": "stream",
          "name": "stdout",
          "text": [
            "m: 11\n"
          ]
        }
      ],
      "source": [
        "m=r+s\n",
        "print(\"m:\",m)"
      ]
    },
    {
      "cell_type": "code",
      "execution_count": 24,
      "metadata": {
        "colab": {
          "base_uri": "https://localhost:8080/",
          "height": 0
        },
        "id": "fURkCBUCmvZp",
        "outputId": "22bf1323-23c5-46f2-b8a3-1f9600f7a255"
      },
      "outputs": [
        {
          "output_type": "execute_result",
          "data": {
            "text/plain": [
              "True"
            ]
          },
          "metadata": {},
          "execution_count": 24
        }
      ],
      "source": [
        "1 is 1"
      ]
    },
    {
      "cell_type": "code",
      "execution_count": 25,
      "metadata": {
        "colab": {
          "base_uri": "https://localhost:8080/",
          "height": 0
        },
        "id": "MJI-W_9KmvZp",
        "outputId": "0b6c5ad1-4ef5-45dd-a284-80d5f82db4ca"
      },
      "outputs": [
        {
          "output_type": "execute_result",
          "data": {
            "text/plain": [
              "False"
            ]
          },
          "metadata": {},
          "execution_count": 25
        }
      ],
      "source": [
        "1 is True"
      ]
    },
    {
      "cell_type": "code",
      "execution_count": 26,
      "metadata": {
        "colab": {
          "base_uri": "https://localhost:8080/",
          "height": 0
        },
        "id": "g2LvEPYMmvZp",
        "outputId": "882a04a9-7971-4077-d229-b84f7c1acbe6"
      },
      "outputs": [
        {
          "output_type": "execute_result",
          "data": {
            "text/plain": [
              "True"
            ]
          },
          "metadata": {},
          "execution_count": 26
        }
      ],
      "source": [
        "1 == True"
      ]
    },
    {
      "cell_type": "code",
      "execution_count": 27,
      "metadata": {
        "colab": {
          "base_uri": "https://localhost:8080/",
          "height": 0
        },
        "id": "W1vmE9AYmvZq",
        "outputId": "b074ad44-6263-4dc0-ec7a-0a011a3526fb"
      },
      "outputs": [
        {
          "output_type": "execute_result",
          "data": {
            "text/plain": [
              "True"
            ]
          },
          "metadata": {},
          "execution_count": 27
        }
      ],
      "source": [
        "1 is 1==True"
      ]
    },
    {
      "cell_type": "code",
      "execution_count": 29,
      "metadata": {
        "colab": {
          "base_uri": "https://localhost:8080/",
          "height": 0
        },
        "id": "ePrX0NU6mvZq",
        "outputId": "d5cd2566-4fad-4272-e9af-c21937e470a4"
      },
      "outputs": [
        {
          "output_type": "execute_result",
          "data": {
            "text/plain": [
              "True"
            ]
          },
          "metadata": {},
          "execution_count": 29
        }
      ],
      "source": [
        "1==True"
      ]
    },
    {
      "cell_type": "code",
      "execution_count": 30,
      "metadata": {
        "colab": {
          "base_uri": "https://localhost:8080/",
          "height": 0
        },
        "id": "TZLki_ahmvZq",
        "outputId": "14e6b672-bdf1-4f41-810a-a326f617f928"
      },
      "outputs": [
        {
          "output_type": "execute_result",
          "data": {
            "text/plain": [
              "False"
            ]
          },
          "metadata": {},
          "execution_count": 30
        }
      ],
      "source": [
        "2==True"
      ]
    },
    {
      "cell_type": "code",
      "execution_count": 31,
      "metadata": {
        "colab": {
          "base_uri": "https://localhost:8080/",
          "height": 0
        },
        "id": "5WW4x0DemvZr",
        "outputId": "41d0acb5-0eda-4708-a3ea-f62e7c801fbd"
      },
      "outputs": [
        {
          "output_type": "execute_result",
          "data": {
            "text/plain": [
              "False"
            ]
          },
          "metadata": {},
          "execution_count": 31
        }
      ],
      "source": [
        "1 is True"
      ]
    },
    {
      "cell_type": "code",
      "execution_count": 32,
      "metadata": {
        "colab": {
          "base_uri": "https://localhost:8080/",
          "height": 0
        },
        "id": "_LpRox_emvZr",
        "outputId": "3e0d0b0d-57b7-4d0c-f1e1-f76d385a9679"
      },
      "outputs": [
        {
          "output_type": "execute_result",
          "data": {
            "text/plain": [
              "True"
            ]
          },
          "metadata": {},
          "execution_count": 32
        }
      ],
      "source": [
        "1 is 1"
      ]
    },
    {
      "cell_type": "code",
      "execution_count": 33,
      "metadata": {
        "colab": {
          "base_uri": "https://localhost:8080/",
          "height": 0
        },
        "id": "khtOUeFHmvZr",
        "outputId": "3b0f3ce5-6a24-45c7-c3a1-32c3f88356bb"
      },
      "outputs": [
        {
          "output_type": "execute_result",
          "data": {
            "text/plain": [
              "True"
            ]
          },
          "metadata": {},
          "execution_count": 33
        }
      ],
      "source": [
        "(1 is 2)==False"
      ]
    },
    {
      "cell_type": "code",
      "execution_count": 34,
      "metadata": {
        "colab": {
          "base_uri": "https://localhost:8080/",
          "height": 0
        },
        "id": "4xS59bRUmvZr",
        "outputId": "e9a5cd93-7797-4a36-d4c5-1bd8b43fa2cf"
      },
      "outputs": [
        {
          "output_type": "execute_result",
          "data": {
            "text/plain": [
              "True"
            ]
          },
          "metadata": {},
          "execution_count": 34
        }
      ],
      "source": [
        "x=5\n",
        "x is 5"
      ]
    },
    {
      "cell_type": "code",
      "execution_count": 35,
      "metadata": {
        "colab": {
          "base_uri": "https://localhost:8080/",
          "height": 0
        },
        "id": "irj0XjnZmvZr",
        "outputId": "66c43efa-fae8-4997-ff8e-a98c8c8b8223"
      },
      "outputs": [
        {
          "output_type": "execute_result",
          "data": {
            "text/plain": [
              "True"
            ]
          },
          "metadata": {},
          "execution_count": 35
        }
      ],
      "source": [
        "(1==2) is False"
      ]
    },
    {
      "cell_type": "code",
      "execution_count": 36,
      "metadata": {
        "colab": {
          "base_uri": "https://localhost:8080/",
          "height": 0
        },
        "id": "t1SwFOwgmvZs",
        "outputId": "a1ec39ef-b103-47af-c4a9-970874d73b2d"
      },
      "outputs": [
        {
          "output_type": "execute_result",
          "data": {
            "text/plain": [
              "94681500428768"
            ]
          },
          "metadata": {},
          "execution_count": 36
        }
      ],
      "source": [
        "a=256   #reference to the object 256\n",
        "b=256    \n",
        "id(a)"
      ]
    },
    {
      "cell_type": "code",
      "execution_count": 37,
      "metadata": {
        "colab": {
          "base_uri": "https://localhost:8080/",
          "height": 0
        },
        "id": "32QTm_okmvZs",
        "outputId": "3686275a-b5d4-43c0-d50e-5f0f50126b9f"
      },
      "outputs": [
        {
          "output_type": "execute_result",
          "data": {
            "text/plain": [
              "94681500428768"
            ]
          },
          "metadata": {},
          "execution_count": 37
        }
      ],
      "source": [
        "id(b)"
      ]
    },
    {
      "cell_type": "markdown",
      "source": [
        "everything in Python is an object, even numbers, and Classes"
      ],
      "metadata": {
        "id": "z0W6hNNmqopk"
      }
    },
    {
      "cell_type": "code",
      "execution_count": 38,
      "metadata": {
        "colab": {
          "base_uri": "https://localhost:8080/",
          "height": 0
        },
        "id": "pKOHhT_GmvZs",
        "outputId": "54a3c981-6727-4a82-8772-59154b1a5462"
      },
      "outputs": [
        {
          "output_type": "execute_result",
          "data": {
            "text/plain": [
              "True"
            ]
          },
          "metadata": {},
          "execution_count": 38
        }
      ],
      "source": [
        "a is b"
      ]
    },
    {
      "cell_type": "code",
      "execution_count": 39,
      "metadata": {
        "colab": {
          "base_uri": "https://localhost:8080/",
          "height": 0
        },
        "id": "mnjFTUiPmvZs",
        "outputId": "5eb14ebc-d3a9-4e6c-bd73-7406082df209"
      },
      "outputs": [
        {
          "output_type": "execute_result",
          "data": {
            "text/plain": [
              "140304192747088"
            ]
          },
          "metadata": {},
          "execution_count": 39
        }
      ],
      "source": [
        "a=257\n",
        "id(a)"
      ]
    },
    {
      "cell_type": "code",
      "execution_count": 40,
      "metadata": {
        "colab": {
          "base_uri": "https://localhost:8080/",
          "height": 0
        },
        "id": "fsG_jNrPmvZs",
        "outputId": "cd3a2c52-5239-4798-cb3b-ef0708503103"
      },
      "outputs": [
        {
          "output_type": "execute_result",
          "data": {
            "text/plain": [
              "140304192748464"
            ]
          },
          "metadata": {},
          "execution_count": 40
        }
      ],
      "source": [
        "b=257\n",
        "id(b)"
      ]
    },
    {
      "cell_type": "code",
      "execution_count": 41,
      "metadata": {
        "colab": {
          "base_uri": "https://localhost:8080/",
          "height": 0
        },
        "id": "P3u2glZ-mvZs",
        "outputId": "2e3c5d84-47ce-4336-ec99-ef5522d5685e"
      },
      "outputs": [
        {
          "output_type": "execute_result",
          "data": {
            "text/plain": [
              "False"
            ]
          },
          "metadata": {},
          "execution_count": 41
        }
      ],
      "source": [
        "a is b"
      ]
    },
    {
      "cell_type": "code",
      "execution_count": 42,
      "metadata": {
        "colab": {
          "base_uri": "https://localhost:8080/",
          "height": 0
        },
        "id": "AiThTVJImvZt",
        "outputId": "c351bf74-2586-48f3-e1e3-4630bbf03cec"
      },
      "outputs": [
        {
          "output_type": "execute_result",
          "data": {
            "text/plain": [
              "94681500420416"
            ]
          },
          "metadata": {},
          "execution_count": 42
        }
      ],
      "source": [
        "a=-5\n",
        "b=-5\n",
        "id(a)"
      ]
    },
    {
      "cell_type": "code",
      "execution_count": 43,
      "metadata": {
        "colab": {
          "base_uri": "https://localhost:8080/",
          "height": 0
        },
        "id": "F3JSZFfSmvZt",
        "outputId": "f04fda63-e3c2-48e8-927a-1d13456f6c5a"
      },
      "outputs": [
        {
          "output_type": "execute_result",
          "data": {
            "text/plain": [
              "94681500420416"
            ]
          },
          "metadata": {},
          "execution_count": 43
        }
      ],
      "source": [
        "id(b)"
      ]
    },
    {
      "cell_type": "code",
      "execution_count": 44,
      "metadata": {
        "colab": {
          "base_uri": "https://localhost:8080/",
          "height": 0
        },
        "id": "8A51KtOomvZt",
        "outputId": "8c9c0570-4a8c-433e-9de0-a6a1db81c8bf"
      },
      "outputs": [
        {
          "output_type": "execute_result",
          "data": {
            "text/plain": [
              "True"
            ]
          },
          "metadata": {},
          "execution_count": 44
        }
      ],
      "source": [
        "a is b"
      ]
    },
    {
      "cell_type": "code",
      "execution_count": 45,
      "metadata": {
        "colab": {
          "base_uri": "https://localhost:8080/",
          "height": 0
        },
        "id": "9xnYJs16mvZt",
        "outputId": "2115947e-0af6-4975-8c0c-fd5a14566b28"
      },
      "outputs": [
        {
          "output_type": "execute_result",
          "data": {
            "text/plain": [
              "140304192748336"
            ]
          },
          "metadata": {},
          "execution_count": 45
        }
      ],
      "source": [
        "a=-6\n",
        "b=-6\n",
        "id(a)"
      ]
    },
    {
      "cell_type": "code",
      "execution_count": 46,
      "metadata": {
        "colab": {
          "base_uri": "https://localhost:8080/",
          "height": 0
        },
        "id": "XAQLSYsqmvZt",
        "outputId": "fef8e054-de8d-48ae-c082-2d54f45ad6ea"
      },
      "outputs": [
        {
          "output_type": "execute_result",
          "data": {
            "text/plain": [
              "140304192748720"
            ]
          },
          "metadata": {},
          "execution_count": 46
        }
      ],
      "source": [
        "id(b)"
      ]
    },
    {
      "cell_type": "code",
      "execution_count": 47,
      "metadata": {
        "colab": {
          "base_uri": "https://localhost:8080/",
          "height": 0
        },
        "id": "EdDPnIidmvZt",
        "outputId": "8bb0aa12-0d4c-42bc-dc8d-8cdb46486226"
      },
      "outputs": [
        {
          "output_type": "execute_result",
          "data": {
            "text/plain": [
              "False"
            ]
          },
          "metadata": {},
          "execution_count": 47
        }
      ],
      "source": [
        "a is b"
      ]
    },
    {
      "cell_type": "code",
      "execution_count": 48,
      "metadata": {
        "colab": {
          "base_uri": "https://localhost:8080/",
          "height": 0
        },
        "id": "m9mOybPvmvZu",
        "outputId": "7f950ed0-310f-4834-d02a-79a6e226098d"
      },
      "outputs": [
        {
          "output_type": "execute_result",
          "data": {
            "text/plain": [
              "True"
            ]
          },
          "metadata": {},
          "execution_count": 48
        }
      ],
      "source": [
        "1==1"
      ]
    },
    {
      "cell_type": "code",
      "execution_count": 49,
      "metadata": {
        "id": "d8J8rMh3mvZu"
      },
      "outputs": [],
      "source": [
        "q=5"
      ]
    },
    {
      "cell_type": "code",
      "execution_count": 50,
      "metadata": {
        "colab": {
          "base_uri": "https://localhost:8080/",
          "height": 0
        },
        "id": "ePKKyZD6mvZu",
        "outputId": "57f00de2-daed-4d72-bc99-52ad2673fe05"
      },
      "outputs": [
        {
          "output_type": "execute_result",
          "data": {
            "text/plain": [
              "20"
            ]
          },
          "metadata": {},
          "execution_count": 50
        }
      ],
      "source": [
        "4*5"
      ]
    },
    {
      "cell_type": "code",
      "execution_count": 51,
      "metadata": {
        "colab": {
          "base_uri": "https://localhost:8080/",
          "height": 0
        },
        "id": "4vkY_fiEmvZu",
        "outputId": "d29ef497-7a5d-4b4a-b8c7-87314ee71fc7"
      },
      "outputs": [
        {
          "output_type": "execute_result",
          "data": {
            "text/plain": [
              "81"
            ]
          },
          "metadata": {},
          "execution_count": 51
        }
      ],
      "source": [
        "3**4"
      ]
    },
    {
      "cell_type": "code",
      "execution_count": 52,
      "metadata": {
        "colab": {
          "base_uri": "https://localhost:8080/",
          "height": 0
        },
        "id": "ITOSHpvAmvZv",
        "outputId": "43ebfe94-fcca-4475-fcef-14a1304e5615"
      },
      "outputs": [
        {
          "output_type": "execute_result",
          "data": {
            "text/plain": [
              "0.5"
            ]
          },
          "metadata": {},
          "execution_count": 52
        }
      ],
      "source": [
        "1 / 2"
      ]
    },
    {
      "cell_type": "code",
      "execution_count": 53,
      "metadata": {
        "colab": {
          "base_uri": "https://localhost:8080/",
          "height": 0
        },
        "id": "NxyXo9ztmvZv",
        "outputId": "ec07bda8-6ded-466a-b911-260b1d17727e"
      },
      "outputs": [
        {
          "output_type": "execute_result",
          "data": {
            "text/plain": [
              "16"
            ]
          },
          "metadata": {},
          "execution_count": 53
        }
      ],
      "source": [
        "2 ** 4"
      ]
    },
    {
      "cell_type": "code",
      "execution_count": 54,
      "metadata": {
        "colab": {
          "base_uri": "https://localhost:8080/",
          "height": 0
        },
        "id": "wcv8oTBdmvZv",
        "outputId": "0ea2dcd4-a6d1-436c-8383-b0679872902a"
      },
      "outputs": [
        {
          "output_type": "execute_result",
          "data": {
            "text/plain": [
              "0"
            ]
          },
          "metadata": {},
          "execution_count": 54
        }
      ],
      "source": [
        "10 % 2"
      ]
    },
    {
      "cell_type": "code",
      "execution_count": 55,
      "metadata": {
        "colab": {
          "base_uri": "https://localhost:8080/",
          "height": 0
        },
        "id": "wuOhSJZBmvZv",
        "outputId": "ef60ca38-f32d-45aa-f8ea-e4850ff2983a"
      },
      "outputs": [
        {
          "output_type": "execute_result",
          "data": {
            "text/plain": [
              "1"
            ]
          },
          "metadata": {},
          "execution_count": 55
        }
      ],
      "source": [
        "5 % 2"
      ]
    },
    {
      "cell_type": "code",
      "execution_count": 56,
      "metadata": {
        "colab": {
          "base_uri": "https://localhost:8080/",
          "height": 0
        },
        "id": "TNowWeNumvZv",
        "outputId": "3409a88d-6fdb-4219-db61-d9e2e2344990"
      },
      "outputs": [
        {
          "output_type": "execute_result",
          "data": {
            "text/plain": [
              "50"
            ]
          },
          "metadata": {},
          "execution_count": 56
        }
      ],
      "source": [
        "(2 + 3) * (5 + 5)"
      ]
    },
    {
      "cell_type": "code",
      "execution_count": 57,
      "metadata": {
        "id": "vZnAkhvVmvZw"
      },
      "outputs": [],
      "source": [
        "# Can not start with number or special characters\n",
        "Name_of_var = 2"
      ]
    },
    {
      "cell_type": "markdown",
      "metadata": {
        "id": "-qYfjsfhmvZw"
      },
      "source": [
        " Rules for variable naming"
      ]
    },
    {
      "cell_type": "markdown",
      "metadata": {
        "id": "V31Y4ArLmvZw"
      },
      "source": [
        "### Variable Assignment"
      ]
    },
    {
      "cell_type": "code",
      "execution_count": 58,
      "metadata": {
        "id": "Mus-sdFKmvZw"
      },
      "outputs": [],
      "source": [
        "# Can not start with number or special characters\n",
        "name_of_var = 2"
      ]
    },
    {
      "cell_type": "code",
      "execution_count": 59,
      "metadata": {
        "id": "2Vk4m-irmvZw"
      },
      "outputs": [],
      "source": [
        "x=5 #nbxcnxcnbx"
      ]
    },
    {
      "cell_type": "code",
      "execution_count": 60,
      "metadata": {
        "id": "N73Wzi5vmvZx"
      },
      "outputs": [],
      "source": [
        "x='mnxzncxzn'"
      ]
    },
    {
      "cell_type": "code",
      "execution_count": 61,
      "metadata": {
        "colab": {
          "base_uri": "https://localhost:8080/",
          "height": 35
        },
        "id": "8118HNkLmvZx",
        "outputId": "27d58b45-057f-49bb-b743-cb56fe091a8b"
      },
      "outputs": [
        {
          "output_type": "execute_result",
          "data": {
            "application/vnd.google.colaboratory.intrinsic+json": {
              "type": "string"
            },
            "text/plain": [
              "'jdhjddhhdajdakjdk\\njshjsadsajhsjdhas\\njshjsah\\n'"
            ]
          },
          "metadata": {},
          "execution_count": 61
        }
      ],
      "source": [
        "\"\"\"jdhjddhhdajdakjdk\n",
        "jshjsadsajhsjdhas\n",
        "jshjsah\n",
        "\"\"\""
      ]
    },
    {
      "cell_type": "code",
      "execution_count": 62,
      "metadata": {
        "colab": {
          "base_uri": "https://localhost:8080/",
          "height": 35
        },
        "id": "6t62qNRrmvZx",
        "outputId": "625c8c82-7a7b-4510-e2d7-4ec3cae619d3"
      },
      "outputs": [
        {
          "output_type": "execute_result",
          "data": {
            "application/vnd.google.colaboratory.intrinsic+json": {
              "type": "string"
            },
            "text/plain": [
              "'mnxzncxzn'"
            ]
          },
          "metadata": {},
          "execution_count": 62
        }
      ],
      "source": [
        "x"
      ]
    },
    {
      "cell_type": "code",
      "execution_count": 63,
      "metadata": {
        "id": "mhS8d4oGmvZx"
      },
      "outputs": [],
      "source": [
        "x = 2\n",
        "y = 3"
      ]
    },
    {
      "cell_type": "code",
      "execution_count": 64,
      "metadata": {
        "colab": {
          "base_uri": "https://localhost:8080/",
          "height": 0
        },
        "id": "-v5wCJifmvZy",
        "outputId": "2a33980b-f7b5-4574-fb60-e54581b240a8"
      },
      "outputs": [
        {
          "output_type": "execute_result",
          "data": {
            "text/plain": [
              "True"
            ]
          },
          "metadata": {},
          "execution_count": 64
        }
      ],
      "source": [
        "l1=[1,2,3]\n",
        "l2=[1,2,3]\n",
        "l3=l1\n",
        "l1 == l2"
      ]
    },
    {
      "cell_type": "code",
      "execution_count": 65,
      "metadata": {
        "colab": {
          "base_uri": "https://localhost:8080/",
          "height": 0
        },
        "id": "8lOPq-QkmvZy",
        "outputId": "6970099f-e2ba-4518-ff5a-4c394c2ecf0a"
      },
      "outputs": [
        {
          "output_type": "execute_result",
          "data": {
            "text/plain": [
              "False"
            ]
          },
          "metadata": {},
          "execution_count": 65
        }
      ],
      "source": [
        "l1 is l2"
      ]
    },
    {
      "cell_type": "code",
      "execution_count": 66,
      "metadata": {
        "colab": {
          "base_uri": "https://localhost:8080/",
          "height": 0
        },
        "id": "nbkOJdv4mvZy",
        "outputId": "1e4cd398-1c13-4e64-ebbf-28e783c06400"
      },
      "outputs": [
        {
          "output_type": "execute_result",
          "data": {
            "text/plain": [
              "True"
            ]
          },
          "metadata": {},
          "execution_count": 66
        }
      ],
      "source": [
        "a=5\n",
        "b=5\n",
        "a is b"
      ]
    },
    {
      "cell_type": "code",
      "execution_count": 67,
      "metadata": {
        "colab": {
          "base_uri": "https://localhost:8080/",
          "height": 0
        },
        "id": "x_F9dbP_mvZ1",
        "outputId": "5b2aa457-7626-49b2-d392-7e1a11d72199"
      },
      "outputs": [
        {
          "output_type": "execute_result",
          "data": {
            "text/plain": [
              "True"
            ]
          },
          "metadata": {},
          "execution_count": 67
        }
      ],
      "source": [
        "l1 is l3"
      ]
    },
    {
      "cell_type": "code",
      "execution_count": 68,
      "metadata": {
        "id": "g_MYnqkfmvZ1"
      },
      "outputs": [],
      "source": [
        "z = x + y"
      ]
    },
    {
      "cell_type": "code",
      "execution_count": 69,
      "metadata": {
        "colab": {
          "base_uri": "https://localhost:8080/",
          "height": 0
        },
        "id": "JfNskFW7mvZ1",
        "outputId": "3141863d-22b8-47d2-a31a-f24fd32f01bf"
      },
      "outputs": [
        {
          "output_type": "execute_result",
          "data": {
            "text/plain": [
              "5"
            ]
          },
          "metadata": {},
          "execution_count": 69
        }
      ],
      "source": [
        "z"
      ]
    },
    {
      "cell_type": "code",
      "execution_count": 70,
      "metadata": {
        "colab": {
          "base_uri": "https://localhost:8080/",
          "height": 0
        },
        "id": "f3x3BUWbmvZ2",
        "outputId": "a8f8795b-ca6e-4509-a6ee-e817f3767bc3"
      },
      "outputs": [
        {
          "output_type": "stream",
          "name": "stdout",
          "text": [
            "Enter your name : xyz\n",
            "xyz\n",
            "<class 'str'>\n"
          ]
        }
      ],
      "source": [
        "g = input(\"Enter your name : \") # input method takes input from user in by default string format \n",
        "h=g\n",
        "print(h) \n",
        "print(type(h))"
      ]
    },
    {
      "cell_type": "code",
      "execution_count": 71,
      "metadata": {
        "colab": {
          "base_uri": "https://localhost:8080/",
          "height": 0
        },
        "id": "a4XbwK2smvZ2",
        "outputId": "59350264-19ba-4411-c5c6-bc7d08f4d870"
      },
      "outputs": [
        {
          "output_type": "stream",
          "name": "stdout",
          "text": [
            "enter your name\n",
            "> xyz\n",
            "When were you born?\n",
            "> 123\n",
            "You are from which state\n",
            ">as\n",
            "Hi xyz! You are 1897 years old! and from as state\n"
          ]
        }
      ],
      "source": [
        "print(\"enter your name\")  \n",
        "name = input(\"> \")\n",
        "print(\"When were you born?\")  \n",
        "birthyear = int(input(\"> \"))\n",
        "print(\"You are from which state\")\n",
        "state=input(\">\")\n",
        "print(\"Hi %s! You are %d years old! and from %s state\" % (name, 2020 - birthyear,state))"
      ]
    },
    {
      "cell_type": "code",
      "execution_count": 72,
      "metadata": {
        "colab": {
          "base_uri": "https://localhost:8080/",
          "height": 0
        },
        "id": "I8-tadUAmvZ2",
        "outputId": "b0e1a5b8-a2c1-4210-8091-47c085f8b458"
      },
      "outputs": [
        {
          "output_type": "stream",
          "name": "stdout",
          "text": [
            "Enter a number:1\n",
            "1\n",
            "<class 'str'>\n"
          ]
        }
      ],
      "source": [
        "x=input(\"Enter a number:\")\n",
        "print(x)\n",
        "print(type(x))"
      ]
    },
    {
      "cell_type": "code",
      "execution_count": 73,
      "metadata": {
        "id": "nlHLVDpTmvZ3"
      },
      "outputs": [],
      "source": [
        "y=int(x)"
      ]
    },
    {
      "cell_type": "code",
      "execution_count": 74,
      "metadata": {
        "colab": {
          "base_uri": "https://localhost:8080/",
          "height": 0
        },
        "id": "0dw2h6JmmvZ3",
        "outputId": "a1a1214f-f08d-44b8-d7bd-1521431fa345"
      },
      "outputs": [
        {
          "output_type": "stream",
          "name": "stdout",
          "text": [
            "<class 'int'>\n"
          ]
        }
      ],
      "source": [
        "print(type(y))"
      ]
    },
    {
      "cell_type": "code",
      "execution_count": 75,
      "metadata": {
        "colab": {
          "base_uri": "https://localhost:8080/",
          "height": 0
        },
        "id": "w3VMT5jgmvZ3",
        "outputId": "c97ac8e2-8d4e-4427-caf0-b49d3350c53a"
      },
      "outputs": [
        {
          "output_type": "stream",
          "name": "stdout",
          "text": [
            "<class 'str'>\n"
          ]
        }
      ],
      "source": [
        "print(type(x))"
      ]
    },
    {
      "cell_type": "code",
      "execution_count": 76,
      "metadata": {
        "colab": {
          "base_uri": "https://localhost:8080/",
          "height": 0
        },
        "id": "qceVtaoImvZ3",
        "outputId": "90e20ae7-8278-4892-da27-f7a4934b5b67"
      },
      "outputs": [
        {
          "output_type": "execute_result",
          "data": {
            "text/plain": [
              "int"
            ]
          },
          "metadata": {},
          "execution_count": 76
        }
      ],
      "source": [
        "x=int(x)\n",
        "type(x)"
      ]
    },
    {
      "cell_type": "markdown",
      "metadata": {
        "id": "lgAblqhzmvZ3"
      },
      "source": [
        "### Strings"
      ]
    },
    {
      "cell_type": "code",
      "execution_count": 77,
      "metadata": {
        "id": "0qZUv1CcmvZ3"
      },
      "outputs": [],
      "source": [
        "x='Jokar'"
      ]
    },
    {
      "cell_type": "code",
      "execution_count": 78,
      "metadata": {
        "colab": {
          "base_uri": "https://localhost:8080/",
          "height": 0
        },
        "id": "lz2auh9imvZ3",
        "outputId": "cadc85d3-eec2-4056-fad5-c27e082a2c1b"
      },
      "outputs": [
        {
          "output_type": "execute_result",
          "data": {
            "text/plain": [
              "str"
            ]
          },
          "metadata": {},
          "execution_count": 78
        }
      ],
      "source": [
        "type(x)"
      ]
    },
    {
      "cell_type": "code",
      "execution_count": 79,
      "metadata": {
        "id": "HZF4eqn6mvZ4"
      },
      "outputs": [],
      "source": [
        "Y='Ram'"
      ]
    },
    {
      "cell_type": "code",
      "execution_count": 80,
      "metadata": {
        "id": "x6BeRiZjmvZ4"
      },
      "outputs": [],
      "source": [
        "y= \"Rama\""
      ]
    },
    {
      "cell_type": "code",
      "execution_count": 81,
      "metadata": {
        "colab": {
          "base_uri": "https://localhost:8080/",
          "height": 35
        },
        "id": "Z6QS1MmlmvZ4",
        "outputId": "12ed3be7-6a87-4714-df92-0d106c7073f6"
      },
      "outputs": [
        {
          "output_type": "execute_result",
          "data": {
            "application/vnd.google.colaboratory.intrinsic+json": {
              "type": "string"
            },
            "text/plain": [
              "'a'"
            ]
          },
          "metadata": {},
          "execution_count": 81
        }
      ],
      "source": [
        "y[1]"
      ]
    },
    {
      "cell_type": "code",
      "execution_count": 82,
      "metadata": {
        "colab": {
          "base_uri": "https://localhost:8080/",
          "height": 0
        },
        "id": "4a-FaH_xmvZ4",
        "outputId": "1619fddf-cc77-451e-a11f-17384c43b1f7"
      },
      "outputs": [
        {
          "output_type": "execute_result",
          "data": {
            "text/plain": [
              "4"
            ]
          },
          "metadata": {},
          "execution_count": 82
        }
      ],
      "source": [
        "len(y)"
      ]
    },
    {
      "cell_type": "code",
      "execution_count": 83,
      "metadata": {
        "colab": {
          "base_uri": "https://localhost:8080/",
          "height": 35
        },
        "id": "KLFUWDQTmvZ4",
        "outputId": "a9c9f2fa-9d9e-4806-919d-4bb0931f7141"
      },
      "outputs": [
        {
          "output_type": "execute_result",
          "data": {
            "application/vnd.google.colaboratory.intrinsic+json": {
              "type": "string"
            },
            "text/plain": [
              "'Ra'"
            ]
          },
          "metadata": {},
          "execution_count": 83
        }
      ],
      "source": [
        "y[:2]  # left : is starting index by default 0  right of : index-1 untill what the iteration will be continued"
      ]
    },
    {
      "cell_type": "code",
      "execution_count": 84,
      "metadata": {
        "colab": {
          "base_uri": "https://localhost:8080/",
          "height": 35
        },
        "id": "bp1C9rWWmvZ4",
        "outputId": "64a17e9e-48d3-4c66-b79d-3302d0d085e2"
      },
      "outputs": [
        {
          "output_type": "execute_result",
          "data": {
            "application/vnd.google.colaboratory.intrinsic+json": {
              "type": "string"
            },
            "text/plain": [
              "'am'"
            ]
          },
          "metadata": {},
          "execution_count": 84
        }
      ],
      "source": [
        "y[1:3]"
      ]
    },
    {
      "cell_type": "code",
      "execution_count": 85,
      "metadata": {
        "colab": {
          "base_uri": "https://localhost:8080/",
          "height": 0
        },
        "id": "WH5M2zw5mvZ4",
        "outputId": "6ae2f3d2-d48d-4402-b201-8f46061824d6"
      },
      "outputs": [
        {
          "output_type": "stream",
          "name": "stdout",
          "text": [
            "Jokar Rama\n"
          ]
        }
      ],
      "source": [
        "print(x + \" \" +y)"
      ]
    },
    {
      "cell_type": "code",
      "execution_count": 86,
      "metadata": {
        "id": "c4S4VdkwmvZ5"
      },
      "outputs": [],
      "source": [
        "y='''double quotes\n",
        "my name is don'''"
      ]
    },
    {
      "cell_type": "code",
      "execution_count": 87,
      "metadata": {
        "colab": {
          "base_uri": "https://localhost:8080/",
          "height": 35
        },
        "id": "nagzrLezmvZ5",
        "outputId": "142f069d-7dfc-4362-90b8-54218b38ee0d"
      },
      "outputs": [
        {
          "output_type": "execute_result",
          "data": {
            "application/vnd.google.colaboratory.intrinsic+json": {
              "type": "string"
            },
            "text/plain": [
              "'double quotes\\nmy name is don'"
            ]
          },
          "metadata": {},
          "execution_count": 87
        }
      ],
      "source": [
        "\n",
        "\n",
        "y"
      ]
    },
    {
      "cell_type": "code",
      "execution_count": 88,
      "metadata": {
        "id": "mLwLKwd3mvZ5"
      },
      "outputs": [],
      "source": [
        "#jshdjsahdjhsa"
      ]
    },
    {
      "cell_type": "code",
      "execution_count": 89,
      "metadata": {
        "colab": {
          "base_uri": "https://localhost:8080/",
          "height": 0
        },
        "id": "__iirnq3mvZ5",
        "outputId": "1308dd98-4812-496f-8fc3-76f98ec026a8"
      },
      "outputs": [
        {
          "output_type": "stream",
          "name": "stdout",
          "text": [
            "double quotes\n",
            "my name is don\n"
          ]
        }
      ],
      "source": [
        "print(y)"
      ]
    },
    {
      "cell_type": "code",
      "execution_count": 90,
      "metadata": {
        "colab": {
          "base_uri": "https://localhost:8080/",
          "height": 0
        },
        "id": "wGf2ZU-wmvZ5",
        "outputId": "722d801d-932e-4088-9188-0911f0c369e7"
      },
      "outputs": [
        {
          "output_type": "execute_result",
          "data": {
            "text/plain": [
              "94681500428768"
            ]
          },
          "metadata": {},
          "execution_count": 90
        }
      ],
      "source": [
        "a=256\n",
        "b=256\n",
        "id(a)"
      ]
    },
    {
      "cell_type": "code",
      "execution_count": 91,
      "metadata": {
        "colab": {
          "base_uri": "https://localhost:8080/",
          "height": 0
        },
        "id": "ZDQayPSEmvZ5",
        "outputId": "177d3f59-e960-4699-f003-9df03f0a5f06"
      },
      "outputs": [
        {
          "output_type": "execute_result",
          "data": {
            "text/plain": [
              "94681500428768"
            ]
          },
          "metadata": {},
          "execution_count": 91
        }
      ],
      "source": [
        "id(b)"
      ]
    },
    {
      "cell_type": "code",
      "execution_count": 92,
      "metadata": {
        "colab": {
          "base_uri": "https://localhost:8080/",
          "height": 0
        },
        "id": "q5dh2DgnmvZ5",
        "outputId": "d7367d7d-f978-4ebf-c03a-a90eb906d045"
      },
      "outputs": [
        {
          "output_type": "stream",
          "name": "stdout",
          "text": [
            "enter a charactera\n",
            "vowel\n"
          ]
        }
      ],
      "source": [
        "x=input(\"enter a character\")\n",
        "if(x==\"a\"):\n",
        "    print(\"vowel\")\n",
        "elif(x==\"e\"):\n",
        "    print(\"vowel\")\n",
        "else:\n",
        "    print(\"consonant\")"
      ]
    },
    {
      "cell_type": "code",
      "execution_count": 93,
      "metadata": {
        "colab": {
          "base_uri": "https://localhost:8080/",
          "height": 0
        },
        "id": "lkCbffYwmvZ6",
        "outputId": "dd93c0ce-af81-449a-bfba-67bd27d589d8"
      },
      "outputs": [
        {
          "output_type": "stream",
          "name": "stdout",
          "text": [
            "Input a letter of the alphabet: a\n",
            "a is a vowel.\n"
          ]
        }
      ],
      "source": [
        "l = input(\"Input a letter of the alphabet: \")\n",
        "\n",
        "if l in ('a', 'e', 'i', 'o', 'u'):\n",
        "    print(\"%s is a vowel.\"%l)\n",
        "else:\n",
        "    print(\"%s is a consonant.\" % l) "
      ]
    },
    {
      "cell_type": "markdown",
      "metadata": {
        "id": "gaJ-CWh3mvZ6"
      },
      "source": [
        "# List"
      ]
    },
    {
      "cell_type": "code",
      "execution_count": 94,
      "metadata": {
        "colab": {
          "base_uri": "https://localhost:8080/",
          "height": 35
        },
        "id": "sMP-T5wNmvZ6",
        "outputId": "ff226f1b-0d5c-46ad-809c-b3b708ab13ba"
      },
      "outputs": [
        {
          "output_type": "execute_result",
          "data": {
            "application/vnd.google.colaboratory.intrinsic+json": {
              "type": "string"
            },
            "text/plain": [
              "\" wrap lot's of other quotes\""
            ]
          },
          "metadata": {},
          "execution_count": 94
        }
      ],
      "source": [
        "\" wrap lot's of other quotes\""
      ]
    },
    {
      "cell_type": "code",
      "execution_count": 95,
      "metadata": {
        "colab": {
          "base_uri": "https://localhost:8080/",
          "height": 0
        },
        "id": "j-Tdz0oemvZ6",
        "outputId": "20ae4336-2632-4cc4-803a-58388d02015c"
      },
      "outputs": [
        {
          "output_type": "stream",
          "name": "stdout",
          "text": [
            "a double quotes\n",
            "my name is don\n"
          ]
        }
      ],
      "source": [
        "print(x+ \" \"+y)"
      ]
    },
    {
      "cell_type": "markdown",
      "metadata": {
        "id": "bQBVejiCmvZ6"
      },
      "source": [
        "### Printing"
      ]
    },
    {
      "cell_type": "code",
      "execution_count": 96,
      "metadata": {
        "id": "c_A-wJMdmvZ6"
      },
      "outputs": [],
      "source": [
        "x = 'hello'"
      ]
    },
    {
      "cell_type": "code",
      "execution_count": 97,
      "metadata": {
        "colab": {
          "base_uri": "https://localhost:8080/",
          "height": 0
        },
        "id": "adR-g0wbmvZ7",
        "outputId": "73664707-20a6-468e-9371-d0924d3ec2a5"
      },
      "outputs": [
        {
          "output_type": "execute_result",
          "data": {
            "text/plain": [
              "str"
            ]
          },
          "metadata": {},
          "execution_count": 97
        }
      ],
      "source": [
        "type(x)"
      ]
    },
    {
      "cell_type": "code",
      "execution_count": 98,
      "metadata": {
        "colab": {
          "base_uri": "https://localhost:8080/",
          "height": 35
        },
        "id": "g-VzGbVhmvZ7",
        "outputId": "6d295a51-fa6e-4184-a94f-e9b27a8b0f3a"
      },
      "outputs": [
        {
          "output_type": "execute_result",
          "data": {
            "application/vnd.google.colaboratory.intrinsic+json": {
              "type": "string"
            },
            "text/plain": [
              "'hello'"
            ]
          },
          "metadata": {},
          "execution_count": 98
        }
      ],
      "source": [
        "x"
      ]
    },
    {
      "cell_type": "code",
      "execution_count": 99,
      "metadata": {
        "colab": {
          "base_uri": "https://localhost:8080/",
          "height": 0
        },
        "id": "JMyxw5L9mvZ7",
        "outputId": "c65c24a3-c865-4d34-9206-f94ea3b06158"
      },
      "outputs": [
        {
          "output_type": "stream",
          "name": "stdout",
          "text": [
            "hello\n"
          ]
        }
      ],
      "source": [
        "print(x)"
      ]
    },
    {
      "cell_type": "code",
      "execution_count": 100,
      "metadata": {
        "id": "6tE_HT5MmvZ7"
      },
      "outputs": [],
      "source": [
        "num = 12\n",
        "\n",
        "name = \"Sam\""
      ]
    },
    {
      "cell_type": "code",
      "execution_count": 101,
      "metadata": {
        "colab": {
          "base_uri": "https://localhost:8080/",
          "height": 0
        },
        "id": "yioFGKNvmvZ7",
        "outputId": "ae70891f-8f44-4014-c8c7-7920d7ba3c9d"
      },
      "outputs": [
        {
          "output_type": "execute_result",
          "data": {
            "text/plain": [
              "str"
            ]
          },
          "metadata": {},
          "execution_count": 101
        }
      ],
      "source": [
        "type(name)"
      ]
    },
    {
      "cell_type": "code",
      "execution_count": 102,
      "metadata": {
        "colab": {
          "base_uri": "https://localhost:8080/",
          "height": 0
        },
        "id": "X2_Yiz_-mvZ7",
        "outputId": "2ca3927e-7627-4abe-f963-c01ac9a2fe66"
      },
      "outputs": [
        {
          "output_type": "stream",
          "name": "stdout",
          "text": [
            "Sam\n"
          ]
        }
      ],
      "source": [
        "print(name)"
      ]
    },
    {
      "cell_type": "code",
      "execution_count": 103,
      "metadata": {
        "colab": {
          "base_uri": "https://localhost:8080/",
          "height": 0
        },
        "id": "0Vv6ZV8xmvZ8",
        "outputId": "038c0ab7-c841-4629-b2a8-544476d19c89"
      },
      "outputs": [
        {
          "output_type": "stream",
          "name": "stdout",
          "text": [
            "The cr of SY MCA is siddharth and acr is Riya\n"
          ]
        }
      ],
      "source": [
        "print('The cr of SY MCA is {} and acr is {}'.format('siddharth','Riya'))"
      ]
    },
    {
      "cell_type": "code",
      "execution_count": 104,
      "metadata": {
        "colab": {
          "base_uri": "https://localhost:8080/",
          "height": 0
        },
        "id": "Mni7ZzZQmvZ8",
        "outputId": "81f18707-43b3-477b-aaa4-e2e6f3d89781"
      },
      "outputs": [
        {
          "output_type": "stream",
          "name": "stdout",
          "text": [
            "The cr of SY MCA is siddharth and acr is Riya\n"
          ]
        }
      ],
      "source": [
        "cr='siddharth'\n",
        "acr='Riya'\n",
        "print('The cr of SY MCA is {} and acr is {}'.format(cr,acr))"
      ]
    },
    {
      "cell_type": "code",
      "execution_count": 105,
      "metadata": {
        "colab": {
          "base_uri": "https://localhost:8080/",
          "height": 0
        },
        "id": "zDioPNOJmvZ8",
        "outputId": "6318028a-fa36-4b88-dc54-f4552fd6332e"
      },
      "outputs": [
        {
          "output_type": "stream",
          "name": "stdout",
          "text": [
            "My number is: 1, and my name is: 2\n"
          ]
        }
      ],
      "source": [
        "print('My number is: {one}, and my name is: {two}'\n",
        "      .format(two=2,one=1))"
      ]
    },
    {
      "cell_type": "code",
      "execution_count": 106,
      "metadata": {
        "colab": {
          "base_uri": "https://localhost:8080/",
          "height": 0
        },
        "id": "z3i0MEJ_mvZ8",
        "outputId": "84a37ed5-fa17-44c5-9ed0-ecf4e8f44b8b"
      },
      "outputs": [
        {
          "output_type": "stream",
          "name": "stdout",
          "text": [
            "My number is: 12, and my name is: Sam\n"
          ]
        }
      ],
      "source": [
        "print('My number is: {one}, and my name is: {two}'\n",
        "      .format(two=name,one=num))"
      ]
    },
    {
      "cell_type": "code",
      "execution_count": 106,
      "metadata": {
        "id": "xAIeW6uwmvZ8"
      },
      "outputs": [],
      "source": [
        ""
      ]
    },
    {
      "cell_type": "code",
      "execution_count": 107,
      "metadata": {
        "colab": {
          "base_uri": "https://localhost:8080/",
          "height": 0
        },
        "id": "lg8daWWnmvZ8",
        "outputId": "a7471caf-912a-4af3-c8d3-26889cc98934"
      },
      "outputs": [
        {
          "output_type": "stream",
          "name": "stdout",
          "text": [
            "the value of x: 5, and the value for y:30,jshdjshadj:30\n"
          ]
        }
      ],
      "source": [
        "x=5;y=30\n",
        "print(\"the value of x: {}, and the value for y:{},jshdjshadj:{}\".format(x,y,y))"
      ]
    },
    {
      "cell_type": "code",
      "execution_count": 108,
      "metadata": {
        "colab": {
          "base_uri": "https://localhost:8080/",
          "height": 0
        },
        "id": "IgqlOgCcmvZ8",
        "outputId": "f864719b-0d43-434f-b00b-bcba966fab72"
      },
      "outputs": [
        {
          "output_type": "stream",
          "name": "stdout",
          "text": [
            "the value of x: 56, and the value for y:5,jshdjshadj:30\n"
          ]
        }
      ],
      "source": [
        "x=5;y=30;z=56\n",
        "print(\"the value of x: {2}, and the value for y:{0},jshdjshadj:{1}\".format(x,y,z))"
      ]
    },
    {
      "cell_type": "code",
      "execution_count": 109,
      "metadata": {
        "colab": {
          "base_uri": "https://localhost:8080/",
          "height": 0
        },
        "id": "z7m60GESmvZ9",
        "outputId": "2fed6aa7-ad85-47eb-fcfe-4536d3c9079e"
      },
      "outputs": [
        {
          "output_type": "stream",
          "name": "stdout",
          "text": [
            "My number is: 12, and my name is: Sam\n"
          ]
        }
      ],
      "source": [
        "print('My number is: {}, and my name is: {}'.format(num,name))"
      ]
    },
    {
      "cell_type": "markdown",
      "metadata": {
        "id": "F9-DSZj5mvZ9"
      },
      "source": [
        "### Lists"
      ]
    },
    {
      "cell_type": "code",
      "execution_count": 110,
      "metadata": {
        "id": "XVtaspucmvZ9"
      },
      "outputs": [],
      "source": [
        "x=[10,20.5,\"30\",40]"
      ]
    },
    {
      "cell_type": "code",
      "execution_count": 111,
      "metadata": {
        "colab": {
          "base_uri": "https://localhost:8080/",
          "height": 0
        },
        "id": "MBihjYQimvZ9",
        "outputId": "7b681089-edb5-4f26-c3f2-a1d055e96477"
      },
      "outputs": [
        {
          "output_type": "execute_result",
          "data": {
            "text/plain": [
              "[10, 20.5]"
            ]
          },
          "metadata": {},
          "execution_count": 111
        }
      ],
      "source": [
        "x[0:2]"
      ]
    },
    {
      "cell_type": "code",
      "execution_count": 112,
      "metadata": {
        "id": "Q-QOJIU7mvZ9"
      },
      "outputs": [],
      "source": [
        "y=[2,3,4,[600,400,344,455]]\n"
      ]
    },
    {
      "cell_type": "code",
      "execution_count": 113,
      "metadata": {
        "colab": {
          "base_uri": "https://localhost:8080/",
          "height": 0
        },
        "id": "URWwpPbbmvZ9",
        "outputId": "0cd8634b-e8f5-49f5-e412-749969089209"
      },
      "outputs": [
        {
          "output_type": "execute_result",
          "data": {
            "text/plain": [
              "344"
            ]
          },
          "metadata": {},
          "execution_count": 113
        }
      ],
      "source": [
        "y[3][2]"
      ]
    },
    {
      "cell_type": "code",
      "execution_count": 114,
      "metadata": {
        "id": "dmsG9XODmvZ9"
      },
      "outputs": [],
      "source": [
        "z=[[1,2,3],5,6,[7,8,9]]"
      ]
    },
    {
      "cell_type": "code",
      "execution_count": 115,
      "metadata": {
        "colab": {
          "base_uri": "https://localhost:8080/",
          "height": 0
        },
        "id": "sBfPjtnbmvZ-",
        "outputId": "f1ae9355-fb38-4b0a-98ed-b8ae0d41251c"
      },
      "outputs": [
        {
          "output_type": "stream",
          "name": "stdout",
          "text": [
            "[[1, 2, 3], 5]\n"
          ]
        }
      ],
      "source": [
        "print(z[0:2])"
      ]
    },
    {
      "cell_type": "code",
      "execution_count": 116,
      "metadata": {
        "id": "g8zXtagomvZ-"
      },
      "outputs": [],
      "source": [
        "s=[1,20,30,40,50,6,7,8,9,10,11,12]"
      ]
    },
    {
      "cell_type": "code",
      "execution_count": 117,
      "metadata": {
        "colab": {
          "base_uri": "https://localhost:8080/",
          "height": 0
        },
        "id": "hxjjbnprmvZ-",
        "outputId": "cb18e2e8-7aed-4965-8ff5-39e6c80caf8f"
      },
      "outputs": [
        {
          "output_type": "execute_result",
          "data": {
            "text/plain": [
              "list"
            ]
          },
          "metadata": {},
          "execution_count": 117
        }
      ],
      "source": [
        "type(s)"
      ]
    },
    {
      "cell_type": "code",
      "execution_count": 118,
      "metadata": {
        "colab": {
          "base_uri": "https://localhost:8080/",
          "height": 0
        },
        "id": "cPhb-w-KmvZ-",
        "outputId": "ef302f36-f756-4fbd-f0cd-100d37a5b9ad"
      },
      "outputs": [
        {
          "output_type": "execute_result",
          "data": {
            "text/plain": [
              "50"
            ]
          },
          "metadata": {},
          "execution_count": 118
        }
      ],
      "source": [
        "s.pop(4)"
      ]
    },
    {
      "cell_type": "code",
      "execution_count": 119,
      "metadata": {
        "colab": {
          "base_uri": "https://localhost:8080/",
          "height": 0
        },
        "id": "e-tfeJJMmvZ-",
        "outputId": "95f149ad-57ec-421a-911e-b1ba35c02d40"
      },
      "outputs": [
        {
          "output_type": "execute_result",
          "data": {
            "text/plain": [
              "[20, 40, 7]"
            ]
          },
          "metadata": {},
          "execution_count": 119
        }
      ],
      "source": [
        "s[1:6:2]"
      ]
    },
    {
      "cell_type": "code",
      "execution_count": 120,
      "metadata": {
        "colab": {
          "base_uri": "https://localhost:8080/",
          "height": 0
        },
        "id": "3K-U3kcimvZ-",
        "outputId": "a3bfccc3-e4f9-4651-e11f-bb5c465f7c2a"
      },
      "outputs": [
        {
          "output_type": "execute_result",
          "data": {
            "text/plain": [
              "[1, 30, 6, 8]"
            ]
          },
          "metadata": {},
          "execution_count": 120
        }
      ],
      "source": [
        "s[:7:2] #s[start:end:jump]"
      ]
    },
    {
      "cell_type": "code",
      "execution_count": 121,
      "metadata": {
        "colab": {
          "base_uri": "https://localhost:8080/",
          "height": 0
        },
        "id": "ntZgkwLqmvZ_",
        "outputId": "b8f086b5-6bbc-40af-ddfb-ddaf554ca38f"
      },
      "outputs": [
        {
          "output_type": "execute_result",
          "data": {
            "text/plain": [
              "[400, 344]"
            ]
          },
          "metadata": {},
          "execution_count": 121
        }
      ],
      "source": [
        "y[3][1:3]"
      ]
    },
    {
      "cell_type": "code",
      "execution_count": 122,
      "metadata": {
        "colab": {
          "base_uri": "https://localhost:8080/",
          "height": 0
        },
        "id": "Gzsa2s2PmvZ_",
        "outputId": "41fc6df5-75f9-4920-b5c9-1f6ca20c33b8"
      },
      "outputs": [
        {
          "output_type": "execute_result",
          "data": {
            "text/plain": [
              "list"
            ]
          },
          "metadata": {},
          "execution_count": 122
        }
      ],
      "source": [
        "type(x)"
      ]
    },
    {
      "cell_type": "code",
      "execution_count": 123,
      "metadata": {
        "colab": {
          "base_uri": "https://localhost:8080/",
          "height": 0
        },
        "id": "yGVP4_I-mvZ_",
        "outputId": "f99818cf-bfaa-4c8b-e315-c1e48bd44d29"
      },
      "outputs": [
        {
          "output_type": "execute_result",
          "data": {
            "text/plain": [
              "list"
            ]
          },
          "metadata": {},
          "execution_count": 123
        }
      ],
      "source": [
        "list"
      ]
    },
    {
      "cell_type": "code",
      "execution_count": 124,
      "metadata": {
        "colab": {
          "base_uri": "https://localhost:8080/",
          "height": 0
        },
        "id": "92E1QWZXmvZ_",
        "outputId": "21bb387c-3b24-4060-990c-305dcd9776ba"
      },
      "outputs": [
        {
          "output_type": "execute_result",
          "data": {
            "text/plain": [
              "[30, 40, 6, 7, 8, 9, 10]"
            ]
          },
          "metadata": {},
          "execution_count": 124
        }
      ],
      "source": [
        "s[2:-2]"
      ]
    },
    {
      "cell_type": "code",
      "execution_count": 125,
      "metadata": {
        "colab": {
          "base_uri": "https://localhost:8080/",
          "height": 0
        },
        "id": "FWG5GHKRmvZ_",
        "outputId": "370cd660-4543-4ad7-a201-94691e6156f5"
      },
      "outputs": [
        {
          "output_type": "stream",
          "name": "stdout",
          "text": [
            "[10, 20.5, '30', 40]\n"
          ]
        }
      ],
      "source": [
        "print(x)"
      ]
    },
    {
      "cell_type": "code",
      "execution_count": 126,
      "metadata": {
        "colab": {
          "base_uri": "https://localhost:8080/",
          "height": 0
        },
        "id": "Xfpab9RwmvaA",
        "outputId": "d8d93fe5-341d-43a9-f4d8-5f680bf14d42"
      },
      "outputs": [
        {
          "output_type": "execute_result",
          "data": {
            "text/plain": [
              "list"
            ]
          },
          "metadata": {},
          "execution_count": 126
        }
      ],
      "source": [
        "type(x)"
      ]
    },
    {
      "cell_type": "code",
      "execution_count": 127,
      "metadata": {
        "colab": {
          "base_uri": "https://localhost:8080/",
          "height": 0
        },
        "id": "xd6kScmkmvaA",
        "outputId": "93ad1c81-bff3-439b-e106-f288cf510aac"
      },
      "outputs": [
        {
          "output_type": "execute_result",
          "data": {
            "text/plain": [
              "[20.5, '30', 40]"
            ]
          },
          "metadata": {},
          "execution_count": 127
        }
      ],
      "source": [
        "x[1:]"
      ]
    },
    {
      "cell_type": "code",
      "execution_count": 128,
      "metadata": {
        "id": "s0UfTwbnmvaA"
      },
      "outputs": [],
      "source": [
        "y=['hi',1,[4,5]]"
      ]
    },
    {
      "cell_type": "code",
      "execution_count": 129,
      "metadata": {
        "id": "X3dDt_tYmvaA"
      },
      "outputs": [],
      "source": [
        "y.append(6)"
      ]
    },
    {
      "cell_type": "code",
      "execution_count": 130,
      "metadata": {
        "colab": {
          "base_uri": "https://localhost:8080/",
          "height": 0
        },
        "id": "GdfBUvOimvaA",
        "outputId": "ded3aa98-9de7-4b0e-f51f-7c71c3ebbb72"
      },
      "outputs": [
        {
          "output_type": "execute_result",
          "data": {
            "text/plain": [
              "['hi', 1, [4, 5], 6]"
            ]
          },
          "metadata": {},
          "execution_count": 130
        }
      ],
      "source": [
        "y"
      ]
    },
    {
      "cell_type": "code",
      "execution_count": 131,
      "metadata": {
        "id": "lwKTA6DymvaA"
      },
      "outputs": [],
      "source": [
        "y.extend([10,20,30])"
      ]
    },
    {
      "cell_type": "code",
      "execution_count": 132,
      "metadata": {
        "colab": {
          "base_uri": "https://localhost:8080/",
          "height": 0
        },
        "id": "vhQWahOjmvaA",
        "outputId": "07438864-d3eb-48ef-e524-adcbd6ac4e7b"
      },
      "outputs": [
        {
          "output_type": "execute_result",
          "data": {
            "text/plain": [
              "['hi', 1, [4, 5], 6, 10, 20, 30]"
            ]
          },
          "metadata": {},
          "execution_count": 132
        }
      ],
      "source": [
        "y"
      ]
    },
    {
      "cell_type": "code",
      "execution_count": 133,
      "metadata": {
        "id": "0sSLo4kemvaB"
      },
      "outputs": [],
      "source": [
        "y.insert(3,[11,12])"
      ]
    },
    {
      "cell_type": "code",
      "execution_count": 134,
      "metadata": {
        "colab": {
          "base_uri": "https://localhost:8080/",
          "height": 0
        },
        "id": "76eKoPmJmvaB",
        "outputId": "d9bd5ffc-6445-4219-98bd-f6475df3ba5a"
      },
      "outputs": [
        {
          "output_type": "execute_result",
          "data": {
            "text/plain": [
              "['hi', 1, [4, 5], [11, 12], 6, 10, 20, 30]"
            ]
          },
          "metadata": {},
          "execution_count": 134
        }
      ],
      "source": [
        "y"
      ]
    },
    {
      "cell_type": "code",
      "execution_count": 135,
      "metadata": {
        "colab": {
          "base_uri": "https://localhost:8080/",
          "height": 0
        },
        "id": "guKBaKwWmvaB",
        "outputId": "6c9936a5-698c-4981-9174-6d92029351a6"
      },
      "outputs": [
        {
          "output_type": "stream",
          "name": "stdout",
          "text": [
            "30\n"
          ]
        }
      ],
      "source": [
        "print(y.pop())"
      ]
    },
    {
      "cell_type": "code",
      "execution_count": 136,
      "metadata": {
        "colab": {
          "base_uri": "https://localhost:8080/",
          "height": 0
        },
        "id": "7aXTYmyvmvaB",
        "outputId": "b9da1d4f-e696-4bca-a94a-790123830cc9"
      },
      "outputs": [
        {
          "output_type": "execute_result",
          "data": {
            "text/plain": [
              "[11, 12]"
            ]
          },
          "metadata": {},
          "execution_count": 136
        }
      ],
      "source": [
        "y.pop(3)"
      ]
    },
    {
      "cell_type": "code",
      "execution_count": 137,
      "metadata": {
        "colab": {
          "base_uri": "https://localhost:8080/",
          "height": 0
        },
        "id": "iAfuIXikmvaB",
        "outputId": "d071de72-e260-4eec-a942-d7353c931f05"
      },
      "outputs": [
        {
          "output_type": "execute_result",
          "data": {
            "text/plain": [
              "['hi', 1, [4, 5], 6, 10, 20]"
            ]
          },
          "metadata": {},
          "execution_count": 137
        }
      ],
      "source": [
        "y"
      ]
    },
    {
      "cell_type": "code",
      "execution_count": 138,
      "metadata": {
        "colab": {
          "base_uri": "https://localhost:8080/",
          "height": 35
        },
        "id": "xnhjy1f0mvaB",
        "outputId": "fe0de489-5d89-4644-c397-fd64bb176b10"
      },
      "outputs": [
        {
          "output_type": "execute_result",
          "data": {
            "application/vnd.google.colaboratory.intrinsic+json": {
              "type": "string"
            },
            "text/plain": [
              "'i'"
            ]
          },
          "metadata": {},
          "execution_count": 138
        }
      ],
      "source": [
        "y[0][1]"
      ]
    },
    {
      "cell_type": "code",
      "execution_count": 139,
      "metadata": {
        "colab": {
          "base_uri": "https://localhost:8080/",
          "height": 0
        },
        "id": "cB8yrPbomvaB",
        "outputId": "48ff3d69-72f5-40b9-9bcd-e64df99e9d6d"
      },
      "outputs": [
        {
          "output_type": "execute_result",
          "data": {
            "text/plain": [
              "4"
            ]
          },
          "metadata": {},
          "execution_count": 139
        }
      ],
      "source": [
        "y[2][0]"
      ]
    },
    {
      "cell_type": "code",
      "execution_count": 140,
      "metadata": {
        "id": "4wysbDTVmvaC"
      },
      "outputs": [],
      "source": [
        "l=[11,22,33,44]"
      ]
    },
    {
      "cell_type": "code",
      "execution_count": 141,
      "metadata": {
        "id": "8yR2k5FMmvaC"
      },
      "outputs": [],
      "source": [
        "ele=33"
      ]
    },
    {
      "cell_type": "code",
      "execution_count": 142,
      "metadata": {
        "colab": {
          "base_uri": "https://localhost:8080/",
          "height": 0
        },
        "id": "8QO3VQGGmvaC",
        "outputId": "9a3cbe9f-76ef-46d3-a515-809a28e0bf00"
      },
      "outputs": [
        {
          "output_type": "stream",
          "name": "stdout",
          "text": [
            "2\n"
          ]
        }
      ],
      "source": [
        "if ele in l:\n",
        "    print(l.index(ele))\n",
        "else:\n",
        "    print(\"element not present\")"
      ]
    },
    {
      "cell_type": "code",
      "execution_count": 143,
      "metadata": {
        "id": "H1ysyOGjmvaC"
      },
      "outputs": [],
      "source": [
        "m=[22,44,11,9,10]"
      ]
    },
    {
      "cell_type": "code",
      "execution_count": 144,
      "metadata": {
        "id": "eyjftdLamvaC"
      },
      "outputs": [],
      "source": [
        "m.sort()         #ascending order arrangement"
      ]
    },
    {
      "cell_type": "code",
      "execution_count": 145,
      "metadata": {
        "colab": {
          "base_uri": "https://localhost:8080/",
          "height": 0
        },
        "id": "WwkNKlXgmvaD",
        "outputId": "cccfb0b5-f5c0-4248-87bf-85382cf75f4f"
      },
      "outputs": [
        {
          "output_type": "execute_result",
          "data": {
            "text/plain": [
              "[9, 10, 11, 22, 44]"
            ]
          },
          "metadata": {},
          "execution_count": 145
        }
      ],
      "source": [
        "m"
      ]
    },
    {
      "cell_type": "code",
      "execution_count": 146,
      "metadata": {
        "colab": {
          "base_uri": "https://localhost:8080/",
          "height": 0
        },
        "id": "Mfz-UlDymvaD",
        "outputId": "19b9afe6-b6e9-42ca-a7cb-bcba6d568594"
      },
      "outputs": [
        {
          "output_type": "execute_result",
          "data": {
            "text/plain": [
              "5"
            ]
          },
          "metadata": {},
          "execution_count": 146
        }
      ],
      "source": [
        "y[2][1]"
      ]
    },
    {
      "cell_type": "code",
      "execution_count": 148,
      "metadata": {
        "colab": {
          "base_uri": "https://localhost:8080/",
          "height": 0
        },
        "id": "K_cN7CX2mvaD",
        "outputId": "d3179c10-d9ad-4a75-f0fe-1a4b393481cb"
      },
      "outputs": [
        {
          "output_type": "execute_result",
          "data": {
            "text/plain": [
              "list"
            ]
          },
          "metadata": {},
          "execution_count": 148
        }
      ],
      "source": [
        "list"
      ]
    },
    {
      "cell_type": "code",
      "execution_count": 149,
      "metadata": {
        "id": "B7pC8Z62mvaD"
      },
      "outputs": [],
      "source": [
        "my_list = ['a','b','c']"
      ]
    },
    {
      "cell_type": "code",
      "execution_count": 150,
      "metadata": {
        "id": "UaQJaIT2mvaD"
      },
      "outputs": [],
      "source": [
        "my_list.append('dim')"
      ]
    },
    {
      "cell_type": "code",
      "execution_count": 151,
      "metadata": {
        "colab": {
          "base_uri": "https://localhost:8080/",
          "height": 0
        },
        "id": "kwRT8kmymvaE",
        "outputId": "7bf0fa9a-95d6-447f-a58e-683cc6876c5e"
      },
      "outputs": [
        {
          "output_type": "execute_result",
          "data": {
            "text/plain": [
              "['a', 'b', 'c', 'dim']"
            ]
          },
          "metadata": {},
          "execution_count": 151
        }
      ],
      "source": [
        "my_list"
      ]
    },
    {
      "cell_type": "code",
      "execution_count": 152,
      "metadata": {
        "id": "M8RPj2oemvaE"
      },
      "outputs": [],
      "source": [
        "my_list[2]=\"don\""
      ]
    },
    {
      "cell_type": "code",
      "execution_count": 153,
      "metadata": {
        "colab": {
          "base_uri": "https://localhost:8080/",
          "height": 0
        },
        "id": "uTROCoJmmvaE",
        "outputId": "3b1ecf2b-23e4-402c-d32d-bd49e6eb6727"
      },
      "outputs": [
        {
          "output_type": "execute_result",
          "data": {
            "text/plain": [
              "['a', 'b', 'don', 'dim']"
            ]
          },
          "metadata": {},
          "execution_count": 153
        }
      ],
      "source": [
        "my_list"
      ]
    },
    {
      "cell_type": "code",
      "execution_count": 154,
      "metadata": {
        "id": "sBFMTGSSmvaE"
      },
      "outputs": [],
      "source": [
        "p=\"Hello\""
      ]
    },
    {
      "cell_type": "code",
      "execution_count": 155,
      "metadata": {
        "colab": {
          "base_uri": "https://localhost:8080/",
          "height": 0
        },
        "id": "aH8Unh94mvaE",
        "outputId": "7ab0ff08-990c-48d2-d26c-88969904b824"
      },
      "outputs": [
        {
          "output_type": "execute_result",
          "data": {
            "text/plain": [
              "['H', 'e', 'l', 'l', 'o']"
            ]
          },
          "metadata": {},
          "execution_count": 155
        }
      ],
      "source": [
        "list(p)"
      ]
    },
    {
      "cell_type": "code",
      "execution_count": 156,
      "metadata": {
        "colab": {
          "base_uri": "https://localhost:8080/",
          "height": 0
        },
        "id": "R2I7hZyRmvaE",
        "outputId": "eeaaeb31-a84f-412b-d806-596fe8555edb"
      },
      "outputs": [
        {
          "output_type": "execute_result",
          "data": {
            "text/plain": [
              "['a', 'b', 'don']"
            ]
          },
          "metadata": {},
          "execution_count": 156
        }
      ],
      "source": [
        "my_list[0:3]"
      ]
    },
    {
      "cell_type": "code",
      "execution_count": 157,
      "metadata": {
        "colab": {
          "base_uri": "https://localhost:8080/",
          "height": 0
        },
        "id": "vZJL5y_UmvaF",
        "outputId": "d074285a-c44b-44f9-a1de-b330b00033bb"
      },
      "outputs": [
        {
          "output_type": "execute_result",
          "data": {
            "text/plain": [
              "['a', 'b']"
            ]
          },
          "metadata": {},
          "execution_count": 157
        }
      ],
      "source": [
        "my_list[:2]"
      ]
    },
    {
      "cell_type": "code",
      "execution_count": 158,
      "metadata": {
        "id": "ZoP5tEvQmvaF"
      },
      "outputs": [],
      "source": [
        "my_list[2] = 'N'"
      ]
    },
    {
      "cell_type": "code",
      "execution_count": 159,
      "metadata": {
        "colab": {
          "base_uri": "https://localhost:8080/",
          "height": 0
        },
        "id": "U0FKfinumvaF",
        "outputId": "28f3275a-213a-48fd-bdb0-322e4d79cb24"
      },
      "outputs": [
        {
          "output_type": "execute_result",
          "data": {
            "text/plain": [
              "['a', 'b', 'N', 'dim']"
            ]
          },
          "metadata": {},
          "execution_count": 159
        }
      ],
      "source": [
        "my_list"
      ]
    },
    {
      "cell_type": "code",
      "execution_count": 160,
      "metadata": {
        "id": "JbjJU4WvmvaF"
      },
      "outputs": [],
      "source": [
        "nest = [1,2,3,[4,5,['target',2.5,5]]]"
      ]
    },
    {
      "cell_type": "code",
      "execution_count": 161,
      "metadata": {
        "colab": {
          "base_uri": "https://localhost:8080/",
          "height": 0
        },
        "id": "jiOdxvsgmvaF",
        "outputId": "a35ad0bf-8e48-4c8b-9f8c-804560ce2d9c"
      },
      "outputs": [
        {
          "output_type": "execute_result",
          "data": {
            "text/plain": [
              "['target', 2.5]"
            ]
          },
          "metadata": {},
          "execution_count": 161
        }
      ],
      "source": [
        "nest[3][2][0:2]"
      ]
    },
    {
      "cell_type": "code",
      "execution_count": 162,
      "metadata": {
        "colab": {
          "base_uri": "https://localhost:8080/",
          "height": 35
        },
        "id": "fik9AZ-rmvaF",
        "outputId": "dc75b39d-762f-47fa-8976-89b276decb6c"
      },
      "outputs": [
        {
          "output_type": "execute_result",
          "data": {
            "application/vnd.google.colaboratory.intrinsic+json": {
              "type": "string"
            },
            "text/plain": [
              "'r'"
            ]
          },
          "metadata": {},
          "execution_count": 162
        }
      ],
      "source": [
        "nest[3][2][0][2]"
      ]
    },
    {
      "cell_type": "code",
      "execution_count": 163,
      "metadata": {
        "colab": {
          "base_uri": "https://localhost:8080/",
          "height": 0
        },
        "id": "-gS0d9i1mvaG",
        "outputId": "778d3899-bdf2-4e92-ea60-f9097bff26ca"
      },
      "outputs": [
        {
          "output_type": "execute_result",
          "data": {
            "text/plain": [
              "5"
            ]
          },
          "metadata": {},
          "execution_count": 163
        }
      ],
      "source": [
        "nest[3][1]"
      ]
    },
    {
      "cell_type": "code",
      "execution_count": 163,
      "metadata": {
        "id": "C8mNzsicmvaG"
      },
      "outputs": [],
      "source": [
        ""
      ]
    },
    {
      "cell_type": "code",
      "execution_count": 164,
      "metadata": {
        "colab": {
          "base_uri": "https://localhost:8080/",
          "height": 0
        },
        "id": "hlgWMKeNmvaG",
        "outputId": "2443741a-4272-4303-8c1d-2e8c3caede03"
      },
      "outputs": [
        {
          "output_type": "execute_result",
          "data": {
            "text/plain": [
              "['target', 2.5, 5]"
            ]
          },
          "metadata": {},
          "execution_count": 164
        }
      ],
      "source": [
        "nest[3][2]"
      ]
    },
    {
      "cell_type": "code",
      "execution_count": 165,
      "metadata": {
        "colab": {
          "base_uri": "https://localhost:8080/",
          "height": 35
        },
        "id": "5HFRy_5umvaG",
        "outputId": "273f63f3-9f07-4c32-b58a-e080ea23ffb4"
      },
      "outputs": [
        {
          "output_type": "execute_result",
          "data": {
            "application/vnd.google.colaboratory.intrinsic+json": {
              "type": "string"
            },
            "text/plain": [
              "'target'"
            ]
          },
          "metadata": {},
          "execution_count": 165
        }
      ],
      "source": [
        "nest[3][2][0]"
      ]
    },
    {
      "cell_type": "markdown",
      "metadata": {
        "id": "57ooDZzfmvaG"
      },
      "source": [
        "### Dictionaries"
      ]
    },
    {
      "cell_type": "code",
      "execution_count": 166,
      "metadata": {
        "id": "bVvuNpwhmvaG"
      },
      "outputs": [],
      "source": [
        "#{key : values }\n",
        "d = {'key1':'item1','key2':'item2'} "
      ]
    },
    {
      "cell_type": "code",
      "execution_count": 167,
      "metadata": {
        "id": "OP6Me43emvaG"
      },
      "outputs": [],
      "source": [
        "student =   {'Names':['sushi' , 'poli', 'jameel'],\n",
        "             'RNo': [ 34,45,65]}\n"
      ]
    },
    {
      "cell_type": "code",
      "execution_count": 168,
      "metadata": {
        "colab": {
          "base_uri": "https://localhost:8080/",
          "height": 0
        },
        "id": "XjdR4i5vmvaG",
        "outputId": "cf082ec0-2bed-482f-e249-2eb350d19425"
      },
      "outputs": [
        {
          "output_type": "execute_result",
          "data": {
            "text/plain": [
              "[34, 45, 65]"
            ]
          },
          "metadata": {},
          "execution_count": 168
        }
      ],
      "source": [
        "student[\"RNo\"]"
      ]
    },
    {
      "cell_type": "code",
      "execution_count": 169,
      "metadata": {
        "id": "KCHRXN-nmvaH"
      },
      "outputs": [],
      "source": [
        "info={\"name\":\"sandy\",\"occupation\":\"hacker\"}"
      ]
    },
    {
      "cell_type": "code",
      "execution_count": 170,
      "metadata": {
        "colab": {
          "base_uri": "https://localhost:8080/",
          "height": 35
        },
        "id": "w6DOaXH4mvaH",
        "outputId": "a8d11761-9b3f-444d-c5d9-86bd79f67922"
      },
      "outputs": [
        {
          "output_type": "execute_result",
          "data": {
            "application/vnd.google.colaboratory.intrinsic+json": {
              "type": "string"
            },
            "text/plain": [
              "'hacker'"
            ]
          },
          "metadata": {},
          "execution_count": 170
        }
      ],
      "source": [
        "info[\"occupation\"]"
      ]
    },
    {
      "cell_type": "code",
      "execution_count": 171,
      "metadata": {
        "id": "6XjrGvssmvaH"
      },
      "outputs": [],
      "source": [
        "info[\"occupation\"]=\"manager\""
      ]
    },
    {
      "cell_type": "code",
      "execution_count": 173,
      "metadata": {
        "colab": {
          "base_uri": "https://localhost:8080/",
          "height": 35
        },
        "id": "BJIakGIzmvaH",
        "outputId": "41c14405-52d0-4332-bbb1-10245d179ad5"
      },
      "outputs": [
        {
          "output_type": "execute_result",
          "data": {
            "application/vnd.google.colaboratory.intrinsic+json": {
              "type": "string"
            },
            "text/plain": [
              "'manager'"
            ]
          },
          "metadata": {},
          "execution_count": 173
        }
      ],
      "source": [
        "info[\"occupation\"]"
      ]
    },
    {
      "cell_type": "code",
      "execution_count": 174,
      "metadata": {
        "colab": {
          "base_uri": "https://localhost:8080/",
          "height": 0
        },
        "id": "J5ioEPYvmvaH",
        "outputId": "5061abc8-ffe4-4ad1-8a5d-d81aff6b0987"
      },
      "outputs": [
        {
          "output_type": "execute_result",
          "data": {
            "text/plain": [
              "{'name': 'sandy', 'occupation': 'manager'}"
            ]
          },
          "metadata": {},
          "execution_count": 174
        }
      ],
      "source": [
        "info"
      ]
    },
    {
      "cell_type": "code",
      "execution_count": 175,
      "metadata": {
        "colab": {
          "base_uri": "https://localhost:8080/",
          "height": 0
        },
        "id": "5k3RpO72mvaH",
        "outputId": "0d591b9c-b05d-498f-f3fd-692773898a70"
      },
      "outputs": [
        {
          "output_type": "stream",
          "name": "stdout",
          "text": [
            "None\n"
          ]
        }
      ],
      "source": [
        "print(info.get(\"rno\"))"
      ]
    },
    {
      "cell_type": "code",
      "execution_count": 176,
      "metadata": {
        "colab": {
          "base_uri": "https://localhost:8080/",
          "height": 0
        },
        "id": "XoTrsYN8mvaH",
        "outputId": "1a9eae6d-34a3-4e39-c866-774950e1df63"
      },
      "outputs": [
        {
          "output_type": "stream",
          "name": "stdout",
          "text": [
            "manager\n"
          ]
        }
      ],
      "source": [
        "print(info.pop(\"occupation\"))"
      ]
    },
    {
      "cell_type": "code",
      "execution_count": 177,
      "metadata": {
        "id": "oQ3x2xAVmvaI"
      },
      "outputs": [],
      "source": [
        "info[\"rno\"]=15"
      ]
    },
    {
      "cell_type": "code",
      "execution_count": 178,
      "metadata": {
        "colab": {
          "base_uri": "https://localhost:8080/",
          "height": 0
        },
        "id": "rZWT4zPNmvaI",
        "outputId": "5bfcdb8b-8950-4a46-976c-709831265d70"
      },
      "outputs": [
        {
          "output_type": "stream",
          "name": "stdout",
          "text": [
            "15\n"
          ]
        }
      ],
      "source": [
        "print(info.get(\"rno\"))"
      ]
    },
    {
      "cell_type": "code",
      "execution_count": 179,
      "metadata": {
        "colab": {
          "base_uri": "https://localhost:8080/",
          "height": 0
        },
        "id": "pQpjf6Y4mvaI",
        "outputId": "80761978-cc22-4725-c1c9-a9fcd06024b7"
      },
      "outputs": [
        {
          "output_type": "stream",
          "name": "stdout",
          "text": [
            "name sandy\n",
            "rno 15\n"
          ]
        }
      ],
      "source": [
        "for key in info:\n",
        "    print(key,info[key])"
      ]
    },
    {
      "cell_type": "code",
      "execution_count": 180,
      "metadata": {
        "colab": {
          "base_uri": "https://localhost:8080/",
          "height": 0
        },
        "id": "MX3Apb_xmvaI",
        "outputId": "552d4303-a775-467b-84f7-ab7910a3735c"
      },
      "outputs": [
        {
          "output_type": "execute_result",
          "data": {
            "text/plain": [
              "dict_items([('name', 'sandy'), ('rno', 15)])"
            ]
          },
          "metadata": {},
          "execution_count": 180
        }
      ],
      "source": [
        "info.items()"
      ]
    },
    {
      "cell_type": "code",
      "execution_count": 183,
      "metadata": {
        "colab": {
          "base_uri": "https://localhost:8080/",
          "height": 0
        },
        "id": "ut3vlpUvmvaI",
        "outputId": "72b047b4-c4f4-4059-b510-b006e988ea91"
      },
      "outputs": [
        {
          "output_type": "execute_result",
          "data": {
            "text/plain": [
              "True"
            ]
          },
          "metadata": {},
          "execution_count": 183
        }
      ],
      "source": [
        "info.__contains__(\"name\")"
      ]
    },
    {
      "cell_type": "code",
      "execution_count": 185,
      "metadata": {
        "colab": {
          "base_uri": "https://localhost:8080/",
          "height": 0
        },
        "id": "Tj6GvmGYmvaI",
        "outputId": "218fff78-adb8-442f-9e9f-c36391f0f853"
      },
      "outputs": [
        {
          "output_type": "stream",
          "name": "stdout",
          "text": [
            "dict_keys(['name', 'rno'])\n"
          ]
        }
      ],
      "source": [
        "k=info.keys()\n",
        "print(k)"
      ]
    },
    {
      "cell_type": "code",
      "execution_count": 186,
      "metadata": {
        "colab": {
          "base_uri": "https://localhost:8080/",
          "height": 0
        },
        "id": "IzevkTD8mvaI",
        "outputId": "e6a5c656-6657-428c-f5e5-128df802edb4"
      },
      "outputs": [
        {
          "output_type": "execute_result",
          "data": {
            "text/plain": [
              "['sushi', 'poli']"
            ]
          },
          "metadata": {},
          "execution_count": 186
        }
      ],
      "source": [
        "student['Names'][0:2]"
      ]
    },
    {
      "cell_type": "code",
      "execution_count": 187,
      "metadata": {
        "colab": {
          "base_uri": "https://localhost:8080/",
          "height": 0
        },
        "id": "vbzTawm5mvaI",
        "outputId": "7f1704a9-3cbe-40b9-e81b-5c96dd4654dd"
      },
      "outputs": [
        {
          "output_type": "stream",
          "name": "stdout",
          "text": [
            "sushi :34\n",
            "poli :45\n",
            "jameel :65\n"
          ]
        }
      ],
      "source": [
        "for i in range(3):\n",
        "    print(student['Names'][i] + \" :\" + str(student['RNo'][i]))"
      ]
    },
    {
      "cell_type": "code",
      "execution_count": 188,
      "metadata": {
        "colab": {
          "base_uri": "https://localhost:8080/",
          "height": 0
        },
        "id": "PVAcpi8vmvaJ",
        "outputId": "4c0decf1-0e1f-4eb4-8140-213eff8f211e"
      },
      "outputs": [
        {
          "output_type": "stream",
          "name": "stdout",
          "text": [
            "1\n",
            "Josheph\n",
            "3\n",
            "Josheph\n",
            "5\n",
            "Josheph\n",
            "7\n",
            "Josheph\n",
            "9\n",
            "Josheph\n"
          ]
        }
      ],
      "source": [
        "for i in range(1,10,2):\n",
        "    print(i)\n",
        "    print(\"Josheph\")"
      ]
    },
    {
      "cell_type": "code",
      "execution_count": 189,
      "metadata": {
        "colab": {
          "base_uri": "https://localhost:8080/",
          "height": 0
        },
        "id": "HYCrFk41mvaJ",
        "outputId": "5d496c76-1a85-457b-bc42-57aa1d8d9d57"
      },
      "outputs": [
        {
          "output_type": "execute_result",
          "data": {
            "text/plain": [
              "[10, 20.5, '30', 40]"
            ]
          },
          "metadata": {},
          "execution_count": 189
        }
      ],
      "source": [
        "x"
      ]
    },
    {
      "cell_type": "code",
      "execution_count": 190,
      "metadata": {
        "colab": {
          "base_uri": "https://localhost:8080/",
          "height": 35
        },
        "id": "83TOGE2emvaJ",
        "outputId": "a2caa610-646d-4196-a919-9a5b854449fe"
      },
      "outputs": [
        {
          "output_type": "execute_result",
          "data": {
            "application/vnd.google.colaboratory.intrinsic+json": {
              "type": "string"
            },
            "text/plain": [
              "'item1'"
            ]
          },
          "metadata": {},
          "execution_count": 190
        }
      ],
      "source": [
        "d['key1']"
      ]
    },
    {
      "cell_type": "markdown",
      "metadata": {
        "id": "568eu9QomvaJ"
      },
      "source": [
        "### Booleans"
      ]
    },
    {
      "cell_type": "code",
      "execution_count": 191,
      "metadata": {
        "colab": {
          "base_uri": "https://localhost:8080/",
          "height": 0
        },
        "id": "ZuEQ2Zn9mvaJ",
        "outputId": "8ce93697-4f3f-49aa-c9fe-1d7f53153a21"
      },
      "outputs": [
        {
          "output_type": "execute_result",
          "data": {
            "text/plain": [
              "True"
            ]
          },
          "metadata": {},
          "execution_count": 191
        }
      ],
      "source": [
        "True"
      ]
    },
    {
      "cell_type": "code",
      "execution_count": 192,
      "metadata": {
        "colab": {
          "base_uri": "https://localhost:8080/",
          "height": 0
        },
        "id": "UoXKiF9cmvaK",
        "outputId": "2d39ead7-7118-4409-c5de-e24474dceb71"
      },
      "outputs": [
        {
          "output_type": "execute_result",
          "data": {
            "text/plain": [
              "False"
            ]
          },
          "metadata": {},
          "execution_count": 192
        }
      ],
      "source": [
        "False"
      ]
    },
    {
      "cell_type": "markdown",
      "metadata": {
        "id": "YB2s3nHRmvaK"
      },
      "source": [
        "### Tuples "
      ]
    },
    {
      "cell_type": "code",
      "execution_count": 193,
      "metadata": {
        "id": "C5PaL_CCmvaK"
      },
      "outputs": [],
      "source": [
        "t = (1,2,3)"
      ]
    },
    {
      "cell_type": "code",
      "execution_count": 194,
      "metadata": {
        "colab": {
          "base_uri": "https://localhost:8080/",
          "height": 0
        },
        "id": "psgLQKCnmvaK",
        "outputId": "9be42ef9-0a6c-4737-f4da-be5068562ced"
      },
      "outputs": [
        {
          "output_type": "execute_result",
          "data": {
            "text/plain": [
              "1"
            ]
          },
          "metadata": {},
          "execution_count": 194
        }
      ],
      "source": [
        "t[0]"
      ]
    },
    {
      "cell_type": "code",
      "execution_count": 195,
      "metadata": {
        "colab": {
          "base_uri": "https://localhost:8080/",
          "height": 165
        },
        "id": "6QgVmSHPmvaK",
        "outputId": "287cb48c-cd63-427b-d62e-a3caf3724bd9"
      },
      "outputs": [
        {
          "output_type": "error",
          "ename": "TypeError",
          "evalue": "ignored",
          "traceback": [
            "\u001b[0;31m---------------------------------------------------------------------------\u001b[0m",
            "\u001b[0;31mTypeError\u001b[0m                                 Traceback (most recent call last)",
            "\u001b[0;32m<ipython-input-195-1c25f0002d07>\u001b[0m in \u001b[0;36m<module>\u001b[0;34m()\u001b[0m\n\u001b[0;32m----> 1\u001b[0;31m \u001b[0mt\u001b[0m\u001b[0;34m[\u001b[0m\u001b[0;36m0\u001b[0m\u001b[0;34m]\u001b[0m\u001b[0;34m=\u001b[0m\u001b[0;36m5\u001b[0m\u001b[0;34m\u001b[0m\u001b[0;34m\u001b[0m\u001b[0m\n\u001b[0m",
            "\u001b[0;31mTypeError\u001b[0m: 'tuple' object does not support item assignment"
          ]
        }
      ],
      "source": [
        "t[0]=5"
      ]
    },
    {
      "cell_type": "code",
      "execution_count": 196,
      "metadata": {
        "colab": {
          "base_uri": "https://localhost:8080/",
          "height": 165
        },
        "id": "o_1qxA_FmvaL",
        "outputId": "05e6f12e-dd8b-42fd-a4ad-1fe01ae4cb09"
      },
      "outputs": [
        {
          "output_type": "error",
          "ename": "TypeError",
          "evalue": "ignored",
          "traceback": [
            "\u001b[0;31m---------------------------------------------------------------------------\u001b[0m",
            "\u001b[0;31mTypeError\u001b[0m                                 Traceback (most recent call last)",
            "\u001b[0;32m<ipython-input-196-93bfe9be1549>\u001b[0m in \u001b[0;36m<module>\u001b[0;34m()\u001b[0m\n\u001b[0;32m----> 1\u001b[0;31m \u001b[0mt\u001b[0m\u001b[0;34m[\u001b[0m\u001b[0;36m0\u001b[0m\u001b[0;34m]\u001b[0m \u001b[0;34m=\u001b[0m \u001b[0;34m'NEW'\u001b[0m\u001b[0;34m\u001b[0m\u001b[0;34m\u001b[0m\u001b[0m\n\u001b[0m",
            "\u001b[0;31mTypeError\u001b[0m: 'tuple' object does not support item assignment"
          ]
        }
      ],
      "source": [
        "t[0] = 'NEW'"
      ]
    },
    {
      "cell_type": "markdown",
      "metadata": {
        "id": "x-3guuqgmvaL"
      },
      "source": [
        "### Sets"
      ]
    },
    {
      "cell_type": "code",
      "execution_count": 197,
      "metadata": {
        "id": "nlko5M9FmvaL"
      },
      "outputs": [],
      "source": [
        "x={1,2,3,3,3}"
      ]
    },
    {
      "cell_type": "code",
      "execution_count": 198,
      "metadata": {
        "colab": {
          "base_uri": "https://localhost:8080/",
          "height": 165
        },
        "id": "R1i-MroEmvaL",
        "outputId": "4eded1b4-79a0-4312-fae0-b8b129a0d259"
      },
      "outputs": [
        {
          "output_type": "error",
          "ename": "TypeError",
          "evalue": "ignored",
          "traceback": [
            "\u001b[0;31m---------------------------------------------------------------------------\u001b[0m",
            "\u001b[0;31mTypeError\u001b[0m                                 Traceback (most recent call last)",
            "\u001b[0;32m<ipython-input-198-2f755f117ac9>\u001b[0m in \u001b[0;36m<module>\u001b[0;34m()\u001b[0m\n\u001b[0;32m----> 1\u001b[0;31m \u001b[0mx\u001b[0m\u001b[0;34m[\u001b[0m\u001b[0;36m0\u001b[0m\u001b[0;34m]\u001b[0m\u001b[0;34m\u001b[0m\u001b[0;34m\u001b[0m\u001b[0m\n\u001b[0m",
            "\u001b[0;31mTypeError\u001b[0m: 'set' object is not subscriptable"
          ]
        }
      ],
      "source": [
        "x[0]"
      ]
    },
    {
      "cell_type": "code",
      "execution_count": 199,
      "metadata": {
        "colab": {
          "base_uri": "https://localhost:8080/",
          "height": 0
        },
        "id": "ac3Qun9-mvaL",
        "outputId": "161e1374-9bed-477f-8eab-d1bc36a543e7"
      },
      "outputs": [
        {
          "output_type": "execute_result",
          "data": {
            "text/plain": [
              "{1, 2, 3}"
            ]
          },
          "metadata": {},
          "execution_count": 199
        }
      ],
      "source": [
        "x"
      ]
    },
    {
      "cell_type": "code",
      "execution_count": 200,
      "metadata": {
        "colab": {
          "base_uri": "https://localhost:8080/",
          "height": 0
        },
        "id": "DAF1klHimvaL",
        "outputId": "31f1dffb-0cf5-43e7-c4be-9dc29aafa357"
      },
      "outputs": [
        {
          "output_type": "execute_result",
          "data": {
            "text/plain": [
              "{1, 2, 3}"
            ]
          },
          "metadata": {},
          "execution_count": 200
        }
      ],
      "source": [
        "{1,2,3,1,2,1,2,3,3,3,3,2,2,2,1,1,2}"
      ]
    }
  ],
  "metadata": {
    "kernelspec": {
      "display_name": "Python 3",
      "language": "python",
      "name": "python3"
    },
    "language_info": {
      "codemirror_mode": {
        "name": "ipython",
        "version": 3
      },
      "file_extension": ".py",
      "mimetype": "text/x-python",
      "name": "python",
      "nbconvert_exporter": "python",
      "pygments_lexer": "ipython3",
      "version": "3.6.4"
    },
    "colab": {
      "name": "Python Data Types.ipynb",
      "provenance": []
    }
  },
  "nbformat": 4,
  "nbformat_minor": 0
}