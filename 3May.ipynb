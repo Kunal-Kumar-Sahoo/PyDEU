{
 "cells": [
  {
   "cell_type": "markdown",
   "metadata": {
    "pycharm": {
     "name": "#%% md\n"
    }
   },
   "source": [
    "# Assignment 8\n",
    "## ~ Kunal Kumar Sahoo (21BCP100)"
   ]
  },
  {
   "cell_type": "markdown",
   "metadata": {
    "pycharm": {
     "name": "#%% md\n"
    }
   },
   "source": [
    "### PPT codes"
   ]
  },
  {
   "cell_type": "code",
   "execution_count": 1,
   "metadata": {
    "pycharm": {
     "name": "#%%\n"
    }
   },
   "outputs": [],
   "source": [
    "# Defining the class\n",
    "\n",
    "class Dog:\n",
    "    # Constructor\n",
    "    def __init__(self, name: str, skinColor: str, earLength: str, isSpotted: bool):\n",
    "        self.name = name\n",
    "        self.skinColor = skinColor\n",
    "        self.earLength = earLength\n",
    "        self.isSpotted = isSpotted\n",
    "\n",
    "        print('Dog has been created')\n",
    "\n",
    "    # Methods\n",
    "    def walk(self):\n",
    "        print('{} is walking'.format(self.name))\n",
    "\n",
    "    def eat(self):\n",
    "        print('{} is eating'.format(self.name))"
   ]
  },
  {
   "cell_type": "code",
   "execution_count": 2,
   "metadata": {
    "pycharm": {
     "name": "#%%\n"
    }
   },
   "outputs": [
    {
     "name": "stdout",
     "output_type": "stream",
     "text": [
      "Dog has been created\n",
      "Scooby Doo is walking\n",
      "Dog has been created\n",
      "Tommy is eating\n"
     ]
    }
   ],
   "source": [
    "# Creating instances of the class\n",
    "\n",
    "dog1 = Dog('Scooby Doo', 'brown', 'short', True)\n",
    "dog1.walk()\n",
    "\n",
    "dog2 = Dog('Tommy', 'white', 'long', False)\n",
    "dog2.eat()"
   ]
  },
  {
   "cell_type": "code",
   "execution_count": 3,
   "metadata": {
    "pycharm": {
     "name": "#%%\n"
    }
   },
   "outputs": [],
   "source": [
    "class Person:\n",
    "    def __init__(self, name: str, age: int):\n",
    "        self.name = name\n",
    "        self.age = age\n",
    "\n",
    "    def greet(self):\n",
    "        print('Hello! My name is {0}. I am {1} years old'.format(self.name, self.age))"
   ]
  },
  {
   "cell_type": "code",
   "execution_count": 4,
   "metadata": {
    "pycharm": {
     "name": "#%%\n"
    }
   },
   "outputs": [
    {
     "name": "stdout",
     "output_type": "stream",
     "text": [
      "Name of p1: Kunal\n",
      "Age of p1: 18\n",
      "After 5 years age of p1 will be:\n",
      "23\n"
     ]
    }
   ],
   "source": [
    "p1 = Person('Kunal', 18)\n",
    "# Accessing member variables of the object\n",
    "print('Name of p1:', p1.name)\n",
    "print('Age of p1:', p1.age)\n",
    "\n",
    "# Modifying the member variables\n",
    "print('After 5 years age of p1 will be:')\n",
    "p1.age += 5\n",
    "print(p1.age)"
   ]
  },
  {
   "cell_type": "code",
   "execution_count": 5,
   "metadata": {
    "pycharm": {
     "name": "#%%\n"
    }
   },
   "outputs": [
    {
     "name": "stdout",
     "output_type": "stream",
     "text": [
      "23\n",
      "'Person' object has no attribute 'age'\n",
      "<__main__.Person object at 0x7fb4aa73b370>\n",
      "name 'p1' is not defined\n"
     ]
    }
   ],
   "source": [
    "# Deleting properties and objects\n",
    "try:\n",
    "    print(p1.age)\n",
    "    del p1.age\n",
    "    print(p1.age)\n",
    "except Exception as e:\n",
    "    print(e)\n",
    "\n",
    "# Delete projects\n",
    "try:\n",
    "    print(p1)\n",
    "    del p1\n",
    "    print(p1)\n",
    "except Exception as e:\n",
    "    print(e)"
   ]
  },
  {
   "cell_type": "markdown",
   "metadata": {
    "pycharm": {
     "name": "#%% md\n"
    }
   },
   "source": [
    "### Q: Write a python code using the concepts of OOPs to add two complex numbers:"
   ]
  },
  {
   "cell_type": "code",
   "execution_count": 6,
   "metadata": {
    "pycharm": {
     "name": "#%%\n"
    }
   },
   "outputs": [],
   "source": [
    "class Complex:\n",
    "    # Constructor\n",
    "    def __init__(self, real: float, imaginary: float):\n",
    "        # Using private variables for security reasons\n",
    "        self.__real = real\n",
    "        self.__imaginary = imaginary\n",
    "\n",
    "    def get_real_part(self):\n",
    "        return self.__real\n",
    "\n",
    "    def get_imaginary_part(self):\n",
    "        return self.__imaginary\n",
    "\n",
    "    def get_number(self):\n",
    "        print('{} + {}i'.format(self.__real, self.__imaginary))\n",
    "\n",
    "    def set_numbers(self, new_real, new_imaginary):\n",
    "        self.__real = new_real\n",
    "        self.__imaginary = new_imaginary\n",
    "\n",
    "    def sum(self, c1, c2):\n",
    "        self.__real = c1.get_real_part() + c2.get_real_part()\n",
    "        self.__imaginary = c1.get_imaginary_part() + c2.get_imaginary_part()"
   ]
  },
  {
   "cell_type": "code",
   "execution_count": 7,
   "metadata": {
    "pycharm": {
     "name": "#%%\n"
    }
   },
   "outputs": [],
   "source": [
    "def get_input():\n",
    "    re = float(input('Enter real part of the complex number: '))\n",
    "    im = float(input('Enter imaginary part of the complex number: '))\n",
    "    return re, im"
   ]
  },
  {
   "cell_type": "code",
   "execution_count": 8,
   "metadata": {
    "pycharm": {
     "name": "#%%\n"
    }
   },
   "outputs": [
    {
     "name": "stdout",
     "output_type": "stream",
     "text": [
      "Enter real part of the complex number: 10\n",
      "Enter imaginary part of the complex number: 20\n",
      "10.0 + 20.0i\n",
      "Enter real part of the complex number: 30\n",
      "Enter imaginary part of the complex number: 40\n",
      "30.0 + 40.0i\n",
      "Sum: 40.0 + 60.0i\n"
     ]
    }
   ],
   "source": [
    "# Create first complex number\n",
    "re, im = get_input()\n",
    "c1 = Complex(re, im)\n",
    "c1.get_number()\n",
    "\n",
    "# Create second complex number\n",
    "re, im = get_input()\n",
    "c2 = Complex(re, im)\n",
    "c2.get_number()\n",
    "\n",
    "# Create third complex number to store the sum\n",
    "c3 = Complex(0, 0)\n",
    "c3.sum(c1, c2)\n",
    "print('Sum: ', end='')\n",
    "c3.get_number()\n"
   ]
  },
  {
   "cell_type": "code",
   "execution_count": null,
   "metadata": {
    "pycharm": {
     "name": "#%%\n"
    }
   },
   "outputs": [],
   "source": []
  }
 ],
 "metadata": {
  "kernelspec": {
   "display_name": "Python 3 (ipykernel)",
   "language": "python",
   "name": "python3"
  },
  "language_info": {
   "codemirror_mode": {
    "name": "ipython",
    "version": 3
   },
   "file_extension": ".py",
   "mimetype": "text/x-python",
   "name": "python",
   "nbconvert_exporter": "python",
   "pygments_lexer": "ipython3",
   "version": "3.10.4"
  }
 },
 "nbformat": 4,
 "nbformat_minor": 1
}