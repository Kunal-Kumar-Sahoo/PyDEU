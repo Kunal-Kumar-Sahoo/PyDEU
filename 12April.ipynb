{
 "cells": [
  {
   "cell_type": "markdown",
   "metadata": {
    "collapsed": true,
    "pycharm": {
     "name": "#%% md\n"
    }
   },
   "source": [
    "# Assignment-6\n",
    "## ~ Kunal Kumar Sahoo (21BCP100)"
   ]
  },
  {
   "cell_type": "markdown",
   "metadata": {
    "pycharm": {
     "name": "#%% md\n"
    }
   },
   "source": [
    "### Write a python program to read admission number and names of 10 students from the keyboard. Create a dictionary of these\n",
    "### admission number and names and then display them on screen"
   ]
  },
  {
   "cell_type": "code",
   "execution_count": 1,
   "metadata": {
    "pycharm": {
     "name": "#%%\n"
    }
   },
   "outputs": [
    {
     "name": "stdout",
     "output_type": "stream",
     "text": [
      "Enter total number of students: 10\n",
      "\n",
      "Entry: 1\n",
      "Enter admission number: 1\n",
      "Enter name of the student: ABC\n",
      "\n",
      "Entry: 2\n",
      "Enter admission number: 2\n",
      "Enter name of the student: DEF\n",
      "\n",
      "Entry: 3\n",
      "Enter admission number: 3\n",
      "Enter name of the student: GHI\n",
      "\n",
      "Entry: 4\n",
      "Enter admission number: 4\n",
      "Enter name of the student: JKL\n",
      "\n",
      "Entry: 5\n",
      "Enter admission number: 5\n",
      "Enter name of the student: MNO\n",
      "\n",
      "Entry: 6\n",
      "Enter admission number: 6\n",
      "Enter name of the student: PQR\n",
      "\n",
      "Entry: 7\n",
      "Enter admission number: 7\n",
      "Enter name of the student: STU\n",
      "\n",
      "Entry: 8\n",
      "Enter admission number: 8\n",
      "Enter name of the student: VWX\n",
      "\n",
      "Entry: 9\n",
      "Enter admission number: 9\n",
      "Enter name of the student: YZA\n",
      "\n",
      "Entry: 10\n",
      "Enter admission number: 10\n",
      "Enter name of the student: BCD\n",
      "List of Students: \n",
      "1: ABC\n",
      "2: DEF\n",
      "3: GHI\n",
      "4: JKL\n",
      "5: MNO\n",
      "6: PQR\n",
      "7: STU\n",
      "8: VWX\n",
      "9: YZA\n",
      "10: BCD\n"
     ]
    }
   ],
   "source": [
    "numberOfStudents = int(input('Enter total number of students: '))\n",
    "students = dict()\n",
    "for i in range(numberOfStudents):\n",
    "    print('\\nEntry:', i+1)\n",
    "\n",
    "    admissionNumber = int(input('Enter admission number: '))\n",
    "    nameOfStudent = input('Enter name of the student: ')\n",
    "    students[admissionNumber] = nameOfStudent\n",
    "\n",
    "print('List of Students: ')\n",
    "for admissionNumber, nameOfStudent in students.items():\n",
    "    print('{}: {}'.format(admissionNumber, nameOfStudent))"
   ]
  },
  {
   "cell_type": "code",
   "execution_count": null,
   "metadata": {
    "pycharm": {
     "name": "#%%\n"
    }
   },
   "outputs": [],
   "source": []
  }
 ],
 "metadata": {
  "kernelspec": {
   "display_name": "Python 3 (ipykernel)",
   "language": "python",
   "name": "python3"
  },
  "language_info": {
   "codemirror_mode": {
    "name": "ipython",
    "version": 3
   },
   "file_extension": ".py",
   "mimetype": "text/x-python",
   "name": "python",
   "nbconvert_exporter": "python",
   "pygments_lexer": "ipython3",
   "version": "3.10.4"
  }
 },
 "nbformat": 4,
 "nbformat_minor": 1
}