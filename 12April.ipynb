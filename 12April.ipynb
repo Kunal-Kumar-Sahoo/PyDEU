{
 "cells": [
  {
   "cell_type": "markdown",
   "metadata": {
    "collapsed": true,
    "pycharm": {
     "name": "#%% md\n"
    }
   },
   "source": [
    "# Assignment-6\n",
    "## ~ Kunal Kumar Sahoo (21BCP100)"
   ]
  },
  {
   "cell_type": "markdown",
   "source": [],
   "metadata": {
    "collapsed": false,
    "pycharm": {
     "name": "#%% md\n"
    }
   }
  },
  {
   "cell_type": "code",
   "execution_count": 5,
   "outputs": [
    {
     "name": "stdout",
     "output_type": "stream",
     "text": [
      "['apple', 'w', 'a', 't', 'e', 'r', 'm', 'e', 'l', 'o', 'n']\n"
     ]
    }
   ],
   "source": [
    "# insert less items than you replace\n",
    "my_list = ['apple', 'banana', 'cherry']\n",
    "my_list[1:3] = 'watermelon'\n",
    "print(my_list)"
   ],
   "metadata": {
    "collapsed": false,
    "pycharm": {
     "name": "#%%\n"
    }
   }
  },
  {
   "cell_type": "code",
   "execution_count": 6,
   "outputs": [
    {
     "name": "stdout",
     "output_type": "stream",
     "text": [
      "['apple', 'banana', 'watermelon', 'cherry']\n"
     ]
    }
   ],
   "source": [
    "# insert() method\n",
    "my_list = ['apple', 'banana', 'cherry']\n",
    "my_list.insert(2, 'watermelon')\n",
    "print(my_list)"
   ],
   "metadata": {
    "collapsed": false,
    "pycharm": {
     "name": "#%%\n"
    }
   }
  },
  {
   "cell_type": "code",
   "execution_count": 7,
   "outputs": [
    {
     "name": "stdout",
     "output_type": "stream",
     "text": [
      "['apple', 'banana', 'cherry', 'orange']\n"
     ]
    }
   ],
   "source": [
    "# append()\n",
    "my_list = ['apple', 'banana', 'cherry']\n",
    "my_list.append('orange')\n",
    "print(my_list)"
   ],
   "metadata": {
    "collapsed": false,
    "pycharm": {
     "name": "#%%\n"
    }
   }
  },
  {
   "cell_type": "code",
   "execution_count": 8,
   "outputs": [
    {
     "name": "stdout",
     "output_type": "stream",
     "text": [
      "['apple', 'banana', 'cherry', 'mango', 'pineapple', 'papaya']\n"
     ]
    }
   ],
   "source": [
    "# extend()\n",
    "my_list = ['apple', 'banana', 'cherry']\n",
    "more_fruits = ['mango', 'pineapple', 'papaya']\n",
    "my_list.extend(more_fruits)\n",
    "print(my_list)"
   ],
   "metadata": {
    "collapsed": false,
    "pycharm": {
     "name": "#%%\n"
    }
   }
  },
  {
   "cell_type": "code",
   "execution_count": 9,
   "outputs": [
    {
     "name": "stdout",
     "output_type": "stream",
     "text": [
      "['apple', 'banana', 'cherry', 'mango']\n"
     ]
    }
   ],
   "source": [
    "# extend() with different data structure\n",
    "my_list = ['apple', 'banana', 'cherry']\n",
    "more_fruits = ('mango',)\n",
    "my_list.extend(more_fruits)\n",
    "print(my_list)"
   ],
   "metadata": {
    "collapsed": false,
    "pycharm": {
     "name": "#%%\n"
    }
   }
  },
  {
   "cell_type": "code",
   "execution_count": 10,
   "outputs": [
    {
     "name": "stdout",
     "output_type": "stream",
     "text": [
      "['banana', 'cherry']\n"
     ]
    }
   ],
   "source": [
    "# remove()\n",
    "my_list = ['apple', 'banana', 'cherry']\n",
    "my_list.remove('apple')\n",
    "print(my_list)"
   ],
   "metadata": {
    "collapsed": false,
    "pycharm": {
     "name": "#%%\n"
    }
   }
  },
  {
   "cell_type": "code",
   "execution_count": 11,
   "outputs": [
    {
     "name": "stdout",
     "output_type": "stream",
     "text": [
      "['apple', 'cherry']\n"
     ]
    }
   ],
   "source": [
    "# pop()\n",
    "my_list = ['apple', 'banana', 'cherry']\n",
    "my_list.pop(1)\n",
    "print(my_list)"
   ],
   "metadata": {
    "collapsed": false,
    "pycharm": {
     "name": "#%%\n"
    }
   }
  },
  {
   "cell_type": "code",
   "execution_count": 12,
   "outputs": [
    {
     "name": "stdout",
     "output_type": "stream",
     "text": [
      "['apple', 'banana']\n"
     ]
    }
   ],
   "source": [
    "# pop() with default value\n",
    "my_list = ['apple', 'banana', 'cherry']\n",
    "my_list.pop()\n",
    "print(my_list)"
   ],
   "metadata": {
    "collapsed": false,
    "pycharm": {
     "name": "#%%\n"
    }
   }
  },
  {
   "cell_type": "code",
   "execution_count": 13,
   "outputs": [
    {
     "name": "stdout",
     "output_type": "stream",
     "text": [
      "['banana', 'cherry']\n"
     ]
    }
   ],
   "source": [
    "# del keyword\n",
    "my_list = ['apple', 'banana', 'cherry']\n",
    "del my_list[0]\n",
    "print(my_list)"
   ],
   "metadata": {
    "collapsed": false,
    "pycharm": {
     "name": "#%%\n"
    }
   }
  },
  {
   "cell_type": "code",
   "execution_count": 14,
   "outputs": [
    {
     "name": "stdout",
     "output_type": "stream",
     "text": [
      "Error: name 'my_list' is not defined\n"
     ]
    }
   ],
   "source": [
    "# del keyword\n",
    "my_list = ['apple', 'banana', 'cherry']\n",
    "del my_list\n",
    "try:\n",
    "    print(my_list)\n",
    "except Exception as e:\n",
    "    print('Error:', e)"
   ],
   "metadata": {
    "collapsed": false,
    "pycharm": {
     "name": "#%%\n"
    }
   }
  },
  {
   "cell_type": "code",
   "execution_count": 15,
   "outputs": [
    {
     "name": "stdout",
     "output_type": "stream",
     "text": [
      "[]\n"
     ]
    }
   ],
   "source": [
    "# clear()\n",
    "my_list = ['apple', 'banana', 'cherry']\n",
    "my_list.clear()\n",
    "print(my_list)"
   ],
   "metadata": {
    "collapsed": false,
    "pycharm": {
     "name": "#%%\n"
    }
   }
  },
  {
   "cell_type": "code",
   "execution_count": 16,
   "outputs": [
    {
     "name": "stdout",
     "output_type": "stream",
     "text": [
      "\n",
      "Looping through elements:\n",
      "apple\n",
      "banana\n",
      "cherry\n",
      "\n",
      "Looping through indices:\n",
      "apple\n",
      "banana\n",
      "cherry\n",
      "\n",
      "Looping using while loop:\n",
      "apple\n",
      "banana\n",
      "cherry\n"
     ]
    }
   ],
   "source": [
    "# loop through list\n",
    "my_list = ['apple', 'banana', 'cherry']\n",
    "print('\\nLooping through elements:')\n",
    "for x in my_list:\n",
    "    print(x)\n",
    "print('\\nLooping through indices:')\n",
    "for i in range(len(my_list)):\n",
    "    print(my_list[i])\n",
    "print('\\nLooping using while loop:')\n",
    "i = 0\n",
    "while i < len(my_list):\n",
    "    print(my_list[i])\n",
    "    i+=1"
   ],
   "metadata": {
    "collapsed": false,
    "pycharm": {
     "name": "#%%\n"
    }
   }
  },
  {
   "cell_type": "code",
   "execution_count": 18,
   "outputs": [
    {
     "name": "stdout",
     "output_type": "stream",
     "text": [
      "['apple', 'banana', 'mango']\n"
     ]
    }
   ],
   "source": [
    "# Find items with a particular condition\n",
    "fruits = ['apple', 'banana', 'cherry', 'kiwi', 'mango']\n",
    "new_list = list()\n",
    "for fruit in fruits:\n",
    "    if 'a' in fruit:\n",
    "        new_list.append(fruit)\n",
    "print(new_list)"
   ],
   "metadata": {
    "collapsed": false,
    "pycharm": {
     "name": "#%%\n"
    }
   }
  },
  {
   "cell_type": "code",
   "execution_count": 19,
   "outputs": [
    {
     "name": "stdout",
     "output_type": "stream",
     "text": [
      "Position of 'elephant': 6\n",
      "['Kunal', 'Kunal', 'Kunal', 'Kunal', 'Kunal', 'Kunal']\n"
     ]
    }
   ],
   "source": [
    "items = ['apple', 'banana', 'cherry', 'carrot', 'dragonfruit', 'elephant']\n",
    "if 'elephant' in items:\n",
    "    print('Position of \\'elephant\\':', items.index('elephant')+1)\n",
    "name = input(\"Enter name of the user: \")\n",
    "new_list = [name for x in items]\n",
    "print(new_list)"
   ],
   "metadata": {
    "collapsed": false,
    "pycharm": {
     "name": "#%%\n"
    }
   }
  },
  {
   "cell_type": "code",
   "execution_count": 20,
   "outputs": [
    {
     "name": "stdout",
     "output_type": "stream",
     "text": [
      "('apple', 'banana', 'cherry')\n"
     ]
    }
   ],
   "source": [
    "# Create a tuple\n",
    "my_tuple = ('apple', 'banana', 'cherry')\n",
    "print(my_tuple)"
   ],
   "metadata": {
    "collapsed": false,
    "pycharm": {
     "name": "#%%\n"
    }
   }
  },
  {
   "cell_type": "code",
   "execution_count": 21,
   "outputs": [
    {
     "name": "stdout",
     "output_type": "stream",
     "text": [
      "banana\n"
     ]
    }
   ],
   "source": [
    "# Indexing\n",
    "my_tuple = ('apple', 'banana', 'cherry')\n",
    "print(my_tuple[1])"
   ],
   "metadata": {
    "collapsed": false,
    "pycharm": {
     "name": "#%%\n"
    }
   }
  },
  {
   "cell_type": "code",
   "execution_count": 22,
   "outputs": [
    {
     "name": "stdout",
     "output_type": "stream",
     "text": [
      "('apple', 'kiwi', 'cherry')\n"
     ]
    }
   ],
   "source": [
    "# Change value of tuple\n",
    "my_tuple = ('apple', 'banana', 'cherry')\n",
    "my_list = list(my_tuple)\n",
    "my_list[1] = 'kiwi'\n",
    "my_tuple = tuple(my_list)\n",
    "print(my_tuple)"
   ],
   "metadata": {
    "collapsed": false,
    "pycharm": {
     "name": "#%%\n"
    }
   }
  },
  {
   "cell_type": "code",
   "execution_count": 23,
   "outputs": [
    {
     "name": "stdout",
     "output_type": "stream",
     "text": [
      "Looping over each item:\n",
      "apple\n",
      "banana\n",
      "cherry\n",
      "\n",
      "Looping over indices:\n",
      "apple\n",
      "banana\n",
      "cherry\n"
     ]
    }
   ],
   "source": [
    "# Looping over items:\n",
    "my_tuple = ('apple', 'banana', 'cherry')\n",
    "print(\"Looping over each item:\")\n",
    "for item in my_tuple:\n",
    "    print(item)\n",
    "print(\"\\nLooping over indices:\")\n",
    "for i in range(len(my_tuple)):\n",
    "    print(my_tuple[i])"
   ],
   "metadata": {
    "collapsed": false,
    "pycharm": {
     "name": "#%%\n"
    }
   }
  },
  {
   "cell_type": "code",
   "execution_count": 24,
   "outputs": [
    {
     "name": "stdout",
     "output_type": "stream",
     "text": [
      "('apple', 'banana', 'cherry', 1, 2, 3)\n",
      "('apple', 'banana', 'cherry', 'apple', 'banana', 'cherry')\n"
     ]
    }
   ],
   "source": [
    "# Join tuples:\n",
    "tuple1 = ('apple', 'banana', 'cherry')\n",
    "tuple2 = (1, 2, 3)\n",
    "print(tuple1+tuple2)\n",
    "\n",
    "# Multiply tuples:\n",
    "print(tuple1*2)"
   ],
   "metadata": {
    "collapsed": false,
    "pycharm": {
     "name": "#%%\n"
    }
   }
  },
  {
   "cell_type": "code",
   "execution_count": 25,
   "outputs": [
    {
     "name": "stdout",
     "output_type": "stream",
     "text": [
      "{'apple', 'banana', 'cherry'}\n"
     ]
    }
   ],
   "source": [
    "# sets\n",
    "my_set = {'apple', 'banana', 'cherry'}\n",
    "print(my_set)"
   ],
   "metadata": {
    "collapsed": false,
    "pycharm": {
     "name": "#%%\n"
    }
   }
  },
  {
   "cell_type": "code",
   "execution_count": 26,
   "outputs": [
    {
     "name": "stdout",
     "output_type": "stream",
     "text": [
      "apple\n",
      "banana\n",
      "cherry\n"
     ]
    }
   ],
   "source": [
    "my_set = {'apple', 'banana', 'cherry'}\n",
    "for x in my_set:\n",
    "    print(x)"
   ],
   "metadata": {
    "collapsed": false,
    "pycharm": {
     "name": "#%%\n"
    }
   }
  },
  {
   "cell_type": "code",
   "execution_count": 27,
   "outputs": [
    {
     "name": "stdout",
     "output_type": "stream",
     "text": [
      "{'orange', 'apple', 'banana', 'cherry'}\n",
      "{'pineapple', 'mango', 'orange', 'banana', 'papaya', 'apple', 'cherry'}\n"
     ]
    }
   ],
   "source": [
    "# Add new items in set\n",
    "my_set = {'apple', 'banana', 'cherry'}\n",
    "my_set.add('orange')\n",
    "print(my_set)\n",
    "tropical = {'pineapple', 'mango', 'papaya'}\n",
    "my_set.update(tropical)\n",
    "print(my_set)"
   ],
   "metadata": {
    "collapsed": false,
    "pycharm": {
     "name": "#%%\n"
    }
   }
  },
  {
   "cell_type": "code",
   "execution_count": 28,
   "outputs": [
    {
     "name": "stdout",
     "output_type": "stream",
     "text": [
      "{'apple', 'cherry'}\n",
      "{'apple', 'cherry'}\n"
     ]
    }
   ],
   "source": [
    "# remove()\n",
    "my_set = {'apple', 'banana', 'cherry'}\n",
    "my_set.remove('banana')\n",
    "print(my_set)\n",
    "\n",
    "# discard()\n",
    "my_set = {'apple', 'banana', 'cherry'}\n",
    "my_set.discard('banana')\n",
    "print(my_set)"
   ],
   "metadata": {
    "collapsed": false,
    "pycharm": {
     "name": "#%%\n"
    }
   }
  },
  {
   "cell_type": "code",
   "execution_count": 29,
   "outputs": [
    {
     "name": "stdout",
     "output_type": "stream",
     "text": [
      "apple\n",
      "banana\n",
      "cherry\n"
     ]
    }
   ],
   "source": [
    "# loop\n",
    "my_set = {'apple', 'banana', 'cherry'}\n",
    "for x in my_set:\n",
    "    print(x)"
   ],
   "metadata": {
    "collapsed": false,
    "pycharm": {
     "name": "#%%\n"
    }
   }
  },
  {
   "cell_type": "code",
   "execution_count": 30,
   "outputs": [
    {
     "name": "stdout",
     "output_type": "stream",
     "text": [
      "{1, 2, 3, 'b', 'a', 'c'}\n"
     ]
    }
   ],
   "source": [
    "set1 = {'a', 'b', 'c'}\n",
    "set2 = {1, 2, 3}\n",
    "set3 = set1.union(set2)\n",
    "print(set3)"
   ],
   "metadata": {
    "collapsed": false,
    "pycharm": {
     "name": "#%%\n"
    }
   }
  },
  {
   "cell_type": "code",
   "execution_count": 31,
   "outputs": [
    {
     "name": "stdout",
     "output_type": "stream",
     "text": [
      "{'brand': 'Ford', 'model': 'Mustang', 'year': 1964}\n",
      "Ford\n"
     ]
    }
   ],
   "source": [
    "# dictionary\n",
    "this_dict = {\n",
    "    'brand': 'Ford',\n",
    "    'model': 'Mustang',\n",
    "    'year': 1964,\n",
    "}\n",
    "print(this_dict)\n",
    "print(this_dict['brand'])"
   ],
   "metadata": {
    "collapsed": false,
    "pycharm": {
     "name": "#%%\n"
    }
   }
  },
  {
   "cell_type": "code",
   "execution_count": 32,
   "outputs": [
    {
     "name": "stdout",
     "output_type": "stream",
     "text": [
      "1964\n",
      "dict_keys(['brand', 'model', 'year'])\n",
      "dict_keys(['brand', 'model', 'year', 'color'])\n"
     ]
    }
   ],
   "source": [
    "# get()\n",
    "print(this_dict.get('year'))\n",
    "\n",
    "# add()\n",
    "x = this_dict.keys()\n",
    "print(x)\n",
    "this_dict['color'] = 'white'\n",
    "print(x)"
   ],
   "metadata": {
    "collapsed": false,
    "pycharm": {
     "name": "#%%\n"
    }
   }
  },
  {
   "cell_type": "markdown",
   "source": [
    "### Write a python program to read admission number and names of 10 students from the keyboard. Create a dictionary of these\n",
    "### admission number and names and then display them on screen"
   ],
   "metadata": {
    "collapsed": false,
    "pycharm": {
     "name": "#%% md\n"
    }
   }
  },
  {
   "cell_type": "code",
   "execution_count": 3,
   "outputs": [
    {
     "name": "stdout",
     "output_type": "stream",
     "text": [
      "\n",
      "Entry: 1\n",
      "\n",
      "Entry: 2\n",
      "\n",
      "Entry: 3\n",
      "\n",
      "Entry: 4\n",
      "\n",
      "Entry: 5\n",
      "List of Students: \n",
      "1: ABC\n",
      "2: DEF\n",
      "3: GHI\n",
      "4: JKL\n",
      "123: dcmsldkcm\n"
     ]
    }
   ],
   "source": [
    "numberOfStudents = int(input('Enter total number of students: '))\n",
    "students = dict()\n",
    "for i in range(numberOfStudents):\n",
    "    print('\\nEntry:', i+1)\n",
    "\n",
    "    admissionNumber = int(input('Enter admission number: '))\n",
    "    nameOfStudent = input('Enter name of the student: ')\n",
    "    students[admissionNumber] = nameOfStudent\n",
    "\n",
    "print('List of Students: ')\n",
    "for admissionNumber, nameOfStudent in students.items():\n",
    "    print('{}: {}'.format(admissionNumber, nameOfStudent))"
   ],
   "metadata": {
    "collapsed": false,
    "pycharm": {
     "name": "#%%\n"
    }
   }
  },
  {
   "cell_type": "code",
   "execution_count": null,
   "outputs": [],
   "source": [],
   "metadata": {
    "collapsed": false,
    "pycharm": {
     "name": "#%%\n"
    }
   }
  }
 ],
 "metadata": {
  "kernelspec": {
   "display_name": "Python 3 (ipykernel)",
   "language": "python",
   "name": "python3"
  },
  "language_info": {
   "codemirror_mode": {
    "name": "ipython",
    "version": 3
   },
   "file_extension": ".py",
   "mimetype": "text/x-python",
   "name": "python",
   "nbconvert_exporter": "python",
   "pygments_lexer": "ipython3",
   "version": "3.10.4"
  }
 },
 "nbformat": 4,
 "nbformat_minor": 1
}