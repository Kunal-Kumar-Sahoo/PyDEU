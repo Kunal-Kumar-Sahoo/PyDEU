{
 "cells": [
  {
   "cell_type": "markdown",
   "metadata": {
    "pycharm": {
     "name": "#%% md\n"
    }
   },
   "source": [
    "# Assignment-4\n",
    "## ~Kunal Kumar Sahoo (21BCP100)"
   ]
  },
  {
   "cell_type": "markdown",
   "metadata": {
    "pycharm": {
     "name": "#%% md\n"
    }
   },
   "source": [
    "### Q.1: Write a function to take a single input from user and return it's integer value."
   ]
  },
  {
   "cell_type": "code",
   "execution_count": 9,
   "metadata": {
    "pycharm": {
     "name": "#%%\n"
    }
   },
   "outputs": [
    {
     "name": "stdout",
     "output_type": "stream",
     "text": [
      "Enter a value: 12.34\n",
      "12\n"
     ]
    }
   ],
   "source": [
    "def input_integer():\n",
    "    _input = input('Enter a value: ')\n",
    "    try:\n",
    "        return int(eval(_input))\n",
    "    except Exception:\n",
    "        return 'The value passed is not a number/decimal.'\n",
    "\n",
    "value = input_integer()\n",
    "print('{}'.format(value))"
   ]
  },
  {
   "cell_type": "markdown",
   "metadata": {
    "pycharm": {
     "name": "#%% md\n"
    }
   },
   "source": [
    "### Q.2: Write a function to print the results of arithmetic operations as shown"
   ]
  },
  {
   "cell_type": "code",
   "execution_count": 14,
   "metadata": {
    "pycharm": {
     "name": "#%%\n"
    }
   },
   "outputs": [
    {
     "name": "stdout",
     "output_type": "stream",
     "text": [
      "Adding 12.0 with 5.0\n",
      "Ans: 17.0\n",
      "Subtracting 5.0 from 12.0\n",
      "Ans: 7.0\n",
      "Multiplying 12.0 with 5.0\n",
      "Ans: 60.0\n",
      "Dividing 12.0 by 5.0\n",
      "Ans: 2.4\n"
     ]
    }
   ],
   "source": [
    "def add(a: float, b: float):\n",
    "    return a + b\n",
    "\n",
    "def subtract(a: float, b: float):\n",
    "    return a - b\n",
    "\n",
    "def multiply(a: float, b: float):\n",
    "    return a * b\n",
    "\n",
    "def divide(a: float, b: float):\n",
    "    assert b != 0, 'Zero division error'\n",
    "    return a / b\n",
    "\n",
    "a = float(input('Enter the value of a\\n>'))\n",
    "b = float(input('Enter the value of b\\n>'))\n",
    "\n",
    "print('Adding {} with {}\\nAns: {}'.format(a, b, add(a, b)))\n",
    "print('Subtracting {} from {}\\nAns: {}'.format(b, a, subtract(a, b)))\n",
    "print('Multiplying {} with {}\\nAns: {}'.format(a, b, multiply(a, b)))\n",
    "print('Dividing {} by {}\\nAns: {}'.format(a, b, divide(a, b)))"
   ]
  },
  {
   "cell_type": "code",
   "execution_count": null,
   "metadata": {
    "collapsed": false,
    "pycharm": {
     "name": "#%%\n"
    }
   },
   "outputs": [],
   "source": []
  }
 ],
 "metadata": {
  "interpreter": {
   "hash": "e7370f93d1d0cde622a1f8e1c04877d8463912d04d973331ad4851f04de6915a"
  },
  "kernelspec": {
   "display_name": "Python 3 (ipykernel)",
   "language": "python",
   "name": "python3"
  },
  "language_info": {
   "codemirror_mode": {
    "name": "ipython",
    "version": 3
   },
   "file_extension": ".py",
   "mimetype": "text/x-python",
   "name": "python",
   "nbconvert_exporter": "python",
   "pygments_lexer": "ipython3",
   "version": "3.10.4"
  }
 },
 "nbformat": 4,
 "nbformat_minor": 2
}