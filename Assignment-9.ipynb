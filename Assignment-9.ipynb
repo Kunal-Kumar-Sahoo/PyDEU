{
 "cells": [
  {
   "cell_type": "markdown",
   "id": "4f9e2003-6397-4190-9ff9-a2d9dacce784",
   "metadata": {},
   "source": [
    "# Assignment-9\n",
    "### ~ Kunal Kumar Sahoo \n",
    "\n",
    "## Aim: To implement principles of Object-Oriented Programming paradigm in Python"
   ]
  },
  {
   "cell_type": "markdown",
   "id": "79feef73-9b4e-4c3e-8a35-6672ca7f241e",
   "metadata": {},
   "source": [
    "### Example codes"
   ]
  },
  {
   "cell_type": "code",
   "execution_count": 2,
   "id": "2c7713eb-76aa-4e9b-8d87-52822e559f67",
   "metadata": {},
   "outputs": [
    {
     "name": "stdout",
     "output_type": "stream",
     "text": [
      "Scooby 5\n"
     ]
    }
   ],
   "source": [
    "# Inheritance\n",
    "\n",
    "# Creating a parent class\n",
    "class Animal:\n",
    "    def __init__(self, name, age1):\n",
    "        self.given_name = name\n",
    "        self.age = age1\n",
    "        \n",
    "    def print_name(self):\n",
    "        print(self.given_name, self.age)\n",
    "        \n",
    "# Creating a child class\n",
    "class Dog(Animal):\n",
    "    pass\n",
    "        \n",
    "x = Dog('Scooby', 5)\n",
    "x.print_name()"
   ]
  },
  {
   "cell_type": "code",
   "execution_count": 5,
   "id": "8e2f93c6-1990-4d9e-ba8a-4e4d9386a65f",
   "metadata": {},
   "outputs": [
    {
     "name": "stdout",
     "output_type": "stream",
     "text": [
      "Tom 2\n",
      "Andrew\n"
     ]
    }
   ],
   "source": [
    "# Using the super() method to inherit all the methods and properties from the parent class\n",
    "\n",
    "class Cat(Animal):\n",
    "    def __init__(self, name, age, owner):\n",
    "        super().__init__(name, age)\n",
    "        self.owner = owner\n",
    "        \n",
    "y = Cat('Tom', 2, 'Andrew')\n",
    "y.print_name()\n",
    "print(y.owner)"
   ]
  },
  {
   "cell_type": "code",
   "execution_count": 6,
   "id": "063b7c84-c3a0-42e1-a8be-29e347efb978",
   "metadata": {},
   "outputs": [
    {
     "name": "stdout",
     "output_type": "stream",
     "text": [
      "Length of the rectangle: 10\n",
      "Breadth of the rectangle: 20\n"
     ]
    },
    {
     "name": "stdin",
     "output_type": "stream",
     "text": [
      "Enter new length of the rectangle:  20\n",
      "Enter new length of the rectangle:  30\n"
     ]
    },
    {
     "name": "stdout",
     "output_type": "stream",
     "text": [
      "Dimensions updated successfully: \n",
      "Perimeter: 100.0\n",
      "Area: 600.0\n"
     ]
    }
   ],
   "source": [
    "# Encapsulation\n",
    "\n",
    "class Rectangle:\n",
    "    # private variables\n",
    "    __length = 0\n",
    "    __breadth = 0\n",
    "    \n",
    "    def __init__(self, length: float, breadth: float):\n",
    "        self.__length = length\n",
    "        self.__breadth = breadth\n",
    "        \n",
    "    # Method to get the values of private variables\n",
    "    def get_dimensions(self):\n",
    "        print('Length of the rectangle: {}\\nBreadth of the rectangle: {}'.format(self.__length, self.__breadth))\n",
    "    \n",
    "    # Method to set the values of private variables\n",
    "    def set_dimensions(self):\n",
    "        self.__length = float(input('Enter new length of the rectangle: '))\n",
    "        self.__breadth = float(input('Enter new length of the rectangle: '))\n",
    "        print('Dimensions updated successfully: ')\n",
    "        \n",
    "    def perimeter(self):\n",
    "        return 2 * (self.__length + self.__breadth)\n",
    "\n",
    "    def area(self):\n",
    "        return self.__length * self.__breadth\n",
    "    \n",
    "\n",
    "r = Rectangle(10, 20)\n",
    "r.get_dimensions()\n",
    "r.set_dimensions()\n",
    "print('Perimeter: {}\\nArea: {}'.format(r.perimeter(), r.area()))\n",
    "        "
   ]
  },
  {
   "cell_type": "code",
   "execution_count": 7,
   "id": "73f55adb-f3a9-4ce6-aae5-886047822194",
   "metadata": {},
   "outputs": [
    {
     "name": "stdout",
     "output_type": "stream",
     "text": [
      "Bow Bow\n",
      "Mew Mew\n",
      "Moo Moo\n"
     ]
    }
   ],
   "source": [
    "# Polymorphism\n",
    "\n",
    "class Dog:\n",
    "    def make_noise(self):\n",
    "        print('Bow Bow')\n",
    "        \n",
    "class Cat:\n",
    "    def make_noise(self):\n",
    "        print('Mew Mew')\n",
    "\n",
    "class Cow:\n",
    "    def make_noise(self):\n",
    "        print('Moo Moo')\n",
    "        \n",
    "obj1 = Dog()\n",
    "obj2 = Cat()\n",
    "obj3 = Cow()\n",
    "\n",
    "obj1.make_noise()\n",
    "obj2.make_noise()\n",
    "obj3.make_noise()"
   ]
  },
  {
   "cell_type": "markdown",
   "id": "22a7dfd9-b314-410d-9db9-8f3cbf0858d0",
   "metadata": {},
   "source": [
    "### Practice the examples of **Inheritance**, **Encapsulation** and **Polymorphism** provided in the [link](https://www.programiz.com/python-programming/object-oriented-programming#:~:text=This%20is%20known%20as%20Object-Oriented%20Programming%20%28OOP%29.%20An,OOP%20in%20Python%20focuses%20on%20creating%20reusable%20code.)"
   ]
  },
  {
   "cell_type": "code",
   "execution_count": 8,
   "id": "314b9271-7bae-4b71-9306-289b6d1921e7",
   "metadata": {},
   "outputs": [
    {
     "name": "stdout",
     "output_type": "stream",
     "text": [
      "Bird is ready\n",
      "Penguin is ready\n",
      "Penguin\n",
      "Swim faster\n",
      "Run faster\n"
     ]
    }
   ],
   "source": [
    "# Inheritance:\n",
    "\n",
    "# parent class\n",
    "class Bird:\n",
    "    def __init__(self):\n",
    "        print('Bird is ready')\n",
    "    \n",
    "    def whoisThis(self):\n",
    "        print('Bird')\n",
    "    \n",
    "    def swim(self):\n",
    "        print('Swim faster')\n",
    "        \n",
    "# child class\n",
    "class Penguin(Bird):\n",
    "    def __init__(self):\n",
    "        # call super() function\n",
    "        super().__init__()\n",
    "        print('Penguin is ready')\n",
    "        \n",
    "    def whoisThis(self):\n",
    "        print('Penguin')\n",
    "        \n",
    "    def run(self):\n",
    "        print('Run faster')\n",
    "        \n",
    "        \n",
    "peggy = Penguin()\n",
    "peggy.whoisThis()\n",
    "peggy.swim()\n",
    "peggy.run()"
   ]
  },
  {
   "cell_type": "code",
   "execution_count": 11,
   "id": "e33f1839-dd1c-4f17-8c30-4df632e8c256",
   "metadata": {},
   "outputs": [
    {
     "name": "stdout",
     "output_type": "stream",
     "text": [
      "Selling price: 900\n",
      "Selling price: 900\n",
      "Selling price: 1000\n"
     ]
    }
   ],
   "source": [
    "# Encapsulation\n",
    "\n",
    "class Computer:\n",
    "    def __init__(self):\n",
    "        self.__maxprice = 900\n",
    "        \n",
    "    def sell(self):\n",
    "        print('Selling price: {}'.format(self.__maxprice))\n",
    "        \n",
    "    def setMaxPrice(self, price):\n",
    "        self.__maxprice = price\n",
    "        \n",
    "c = Computer()\n",
    "c.sell()\n",
    "\n",
    "# change the price\n",
    "c.__maxprice = 1000\n",
    "# print(e)\n",
    "c.sell()\n",
    "    \n",
    "# using the setter function\n",
    "c.setMaxPrice(1000)\n",
    "c.sell()"
   ]
  },
  {
   "cell_type": "code",
   "execution_count": 14,
   "id": "df1d4136-0beb-4a5f-81ea-f7a365f1af64",
   "metadata": {},
   "outputs": [
    {
     "name": "stdout",
     "output_type": "stream",
     "text": [
      "Parrots can fly\n",
      "Penguins can't fly\n"
     ]
    }
   ],
   "source": [
    "# Polymorphism\n",
    "\n",
    "class Parrot:\n",
    "    \n",
    "    def fly(self):\n",
    "        print('Parrots can fly')\n",
    "    \n",
    "    def swim(self):\n",
    "        print('Parrots can\\'t swim')\n",
    "        \n",
    "class Penguin:\n",
    "    \n",
    "    def fly(self):\n",
    "        print('Penguins can\\'t fly')\n",
    "    \n",
    "    def swim(self):\n",
    "        print('Penguins can swim')\n",
    "        \n",
    "# common interface\n",
    "def flying_test(bird):\n",
    "    bird.fly()\n",
    "    \n",
    "parrot = Parrot()\n",
    "penguin = Penguin()\n",
    "\n",
    "flying_test(parrot)\n",
    "flying_test(penguin)"
   ]
  }
 ],
 "metadata": {
  "kernelspec": {
   "display_name": "Python 3 (ipykernel)",
   "language": "python",
   "name": "python3"
  },
  "language_info": {
   "codemirror_mode": {
    "name": "ipython",
    "version": 3
   },
   "file_extension": ".py",
   "mimetype": "text/x-python",
   "name": "python",
   "nbconvert_exporter": "python",
   "pygments_lexer": "ipython3",
   "version": "3.10.4"
  }
 },
 "nbformat": 4,
 "nbformat_minor": 5
}
