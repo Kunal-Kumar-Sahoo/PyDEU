{
 "cells": [
  {
   "cell_type": "markdown",
   "id": "404606cd-b12e-4ed8-90f9-c0a4edb91f5d",
   "metadata": {},
   "source": [
    "# Assignment 10\n",
    "### ~ Kunal Kumar Sahoo\n",
    "\n",
    "## Aim: To implement various Sorting algorithms in Python."
   ]
  },
  {
   "cell_type": "code",
   "execution_count": 1,
   "id": "c8bf1864-a7d4-4f9d-a8a5-747a9a48fa4a",
   "metadata": {
    "slideshow": {
     "slide_type": "slide"
    },
    "tags": []
   },
   "outputs": [
    {
     "name": "stdout",
     "output_type": "stream",
     "text": [
      "Original array: [41, -7, 36, 2, -7, -7, 30, 47, 32, -2, 15, 7, -4, -10, 21, 25, 33, 32, 24, 23, 29, -4, 36, 36, 24, 3, 49, -2, 49, 50, -4, 20, 10, 50, -6, 50, -9, 24, 33, 36, 1, 24, 30, 10, 35, -7, -3, 39, 14, 44]\n",
      "Sorted array: [-10, -9, -7, -7, -7, -7, -6, -4, -4, -4, -3, -2, -2, 1, 2, 3, 7, 10, 10, 14, 15, 20, 21, 23, 24, 24, 24, 24, 25, 29, 30, 30, 32, 32, 33, 33, 35, 36, 36, 36, 36, 39, 41, 44, 47, 49, 49, 50, 50, 50]\n"
     ]
    }
   ],
   "source": [
    "# Bubble sort:\n",
    "\n",
    "import random\n",
    "\n",
    "# Create a variable of random numbers\n",
    "arr = [random.randint(-10, 50) for _ in range(50)]\n",
    "\n",
    "def bubbleSort(arr):\n",
    "    for i in range(0, len(arr)):\n",
    "        swapped = False\n",
    "        for j in range(1, len(arr)-i):\n",
    "            if arr[j-1] > arr[j]:\n",
    "                arr[j-1], arr[j] = arr[j], arr[j-1]\n",
    "                swapped = True\n",
    "        if not swapped:\n",
    "            break\n",
    "    \n",
    "print('Original array: {}'.format(arr))\n",
    "bubbleSort(arr)\n",
    "print('Sorted array: {}'.format(arr))"
   ]
  },
  {
   "cell_type": "code",
   "execution_count": 2,
   "id": "2f697858-88bc-47f2-a1d9-03af6fa71afa",
   "metadata": {},
   "outputs": [
    {
     "name": "stdout",
     "output_type": "stream",
     "text": [
      "Original array: [31, 42, -2, 11, 35, -10, 8, 13, 39, 11, 11, -4, 39, -10, 20, -1, -10, -4, 26, 12, 1, -4, 34, 50, 23, 3, 24, 48, 47, 26, 40, 21, 11, 4, 10, 44, 48, 29, 27, -8, 30, 24, 45, 24, 7, -2, -3, 28, 43, 6]\n",
      "Sorted array: [-10, -10, -10, -8, -4, -4, -4, -3, -2, -2, -1, 1, 3, 4, 6, 7, 8, 10, 11, 11, 11, 11, 12, 13, 20, 21, 23, 24, 24, 24, 26, 26, 27, 28, 29, 30, 31, 34, 35, 39, 39, 40, 42, 43, 44, 45, 47, 48, 48, 50]\n"
     ]
    }
   ],
   "source": [
    "# Insertion sort:\n",
    "\n",
    "arr = [random.randint(-10, 50) for _ in range(50)]\n",
    "\n",
    "def insertionSort(arr):\n",
    "    for i in range(1, len(arr)):\n",
    "        a = arr[i]\n",
    "        j = i-1\n",
    "        while j >= 0 and a < arr[j]:\n",
    "            arr[j+1] = arr[j]\n",
    "            j -= 1            \n",
    "        arr[j+1] = a\n",
    "        \n",
    "print('Original array: {}'.format(arr))\n",
    "insertionSort(arr)\n",
    "print('Sorted array: {}'.format(arr))\n"
   ]
  },
  {
   "cell_type": "code",
   "execution_count": 3,
   "id": "ac32d889-7d49-4938-866c-27efc81d730e",
   "metadata": {},
   "outputs": [
    {
     "name": "stdout",
     "output_type": "stream",
     "text": [
      "Original array: [7, 6, 15, 5, 37, 28, -9, 19, 40, 16, 26, 13, 25, 37, 20, 22, 0, 23, -5, 16, 37, 35, 1, 3, 28, 50, 50, 34, -10, -5, 31, 50, 41, 28, 50, 46, 47, 50, -5, 30, 3, -1, -8, 5, 13, 14, 5, 2, 8, 41]\n",
      "Sorted array: [-10, -9, -8, -5, -5, -5, -1, 0, 1, 2, 3, 3, 5, 5, 5, 6, 7, 8, 13, 13, 14, 15, 16, 16, 19, 20, 22, 23, 25, 26, 28, 28, 28, 30, 31, 34, 35, 37, 37, 37, 40, 41, 41, 46, 47, 50, 50, 50, 50, 50]\n"
     ]
    }
   ],
   "source": [
    "# Selection sort:\n",
    "\n",
    "arr = [random.randint(-10, 50) for _ in range(50)]\n",
    "\n",
    "def selectionSort(arr):\n",
    "    for i in range(len(arr)):\n",
    "        min_idx = i\n",
    "        \n",
    "        for j in range(i+1, len(arr)):\n",
    "            if arr[min_idx] > arr[j]:\n",
    "                min_idx = j\n",
    "        arr[i], arr[min_idx] = arr[min_idx], arr[i]\n",
    "        \n",
    "print('Original array: {}'.format(arr))\n",
    "selectionSort(arr)\n",
    "print('Sorted array: {}'.format(arr))"
   ]
  },
  {
   "cell_type": "code",
   "execution_count": 4,
   "id": "5b589926-98bd-4a6d-be48-898a281cb633",
   "metadata": {},
   "outputs": [
    {
     "name": "stdout",
     "output_type": "stream",
     "text": [
      "Original array: [6, 17, 1, 29, 30, 40, 40, 1, -5, 32, 49, -3, 14, 1, 25, 19, 23, -9, 21, -9, 31, 45, 4, 28, 46, 13, 27, 24, 47, 19, 48, -6, 42, 10, 18, 12, 46, 5, 6, 49, -4, 42, 33, 10, 27, 42, 48, -1, 2, 29]\n",
      "Sorted array: [-9, -9, -6, -5, -4, -3, -1, 1, 1, 1, 2, 4, 5, 6, 6, 10, 10, 12, 13, 14, 17, 18, 19, 19, 21, 23, 24, 25, 27, 27, 28, 29, 29, 30, 31, 32, 33, 40, 40, 42, 42, 42, 45, 46, 46, 47, 48, 48, 49, 49]\n"
     ]
    }
   ],
   "source": [
    "# Merge sort:\n",
    "\n",
    "arr = [random.randint(-10, 50) for _ in range(50)]\n",
    "\n",
    "def mergeSort(arr):\n",
    "    if len(arr) > 1:\n",
    "        mid = len(arr) // 2\n",
    "        left = arr[:mid]\n",
    "        right = arr[mid:]\n",
    "        \n",
    "        mergeSort(left)\n",
    "        mergeSort(right)\n",
    "        \n",
    "        i = j = k = 0\n",
    "        \n",
    "        while i < len(left) and j < len(right):\n",
    "            if left[i] < right[j]:\n",
    "                arr[k] = left[i]\n",
    "                i += 1\n",
    "            else:\n",
    "                arr[k] = right[j]\n",
    "                j += 1\n",
    "            k += 1 \n",
    "            \n",
    "        while i < len(left):\n",
    "            arr[k] = left[i]\n",
    "            i += 1\n",
    "            k += 1\n",
    "\n",
    "        while j < len(right):\n",
    "            arr[k] = right[j]\n",
    "            j += 1\n",
    "            k += 1\n",
    "        \n",
    "print('Original array: {}'.format(arr))\n",
    "mergeSort(arr)\n",
    "print('Sorted array: {}'.format(arr))"
   ]
  }
 ],
 "metadata": {
  "kernelspec": {
   "display_name": "Python 3 (ipykernel)",
   "language": "python",
   "name": "python3"
  },
  "language_info": {
   "codemirror_mode": {
    "name": "ipython",
    "version": 3
   },
   "file_extension": ".py",
   "mimetype": "text/x-python",
   "name": "python",
   "nbconvert_exporter": "python",
   "pygments_lexer": "ipython3",
   "version": "3.10.4"
  }
 },
 "nbformat": 4,
 "nbformat_minor": 5
}
