{
 "cells": [
  {
   "cell_type": "markdown",
   "metadata": {
    "pycharm": {
     "name": "#%% md\n"
    }
   },
   "source": [
    "# Assignment 3\n",
    "## ~ Kunal Kumar Sahoo"
   ]
  },
  {
   "cell_type": "markdown",
   "metadata": {
    "pycharm": {
     "name": "#%% md\n"
    }
   },
   "source": [
    "### Q.1: Input an integer, and print the multiplication table for the  number."
   ]
  },
  {
   "cell_type": "code",
   "execution_count": 1,
   "metadata": {
    "collapsed": false,
    "jupyter": {
     "outputs_hidden": false
    },
    "pycharm": {
     "name": "#%%\n"
    }
   },
   "outputs": [
    {
     "name": "stdin",
     "output_type": "stream",
     "text": [
      "Enter a number:  12\n"
     ]
    },
    {
     "name": "stdout",
     "output_type": "stream",
     "text": [
      "12 x 1 = 12\n",
      "12 x 2 = 24\n",
      "12 x 3 = 36\n",
      "12 x 4 = 48\n",
      "12 x 5 = 60\n",
      "12 x 6 = 72\n",
      "12 x 7 = 84\n",
      "12 x 8 = 96\n",
      "12 x 9 = 108\n",
      "12 x 10 = 120\n"
     ]
    }
   ],
   "source": [
    "x = int(input('Enter a number: '))\n",
    "for i in range(1, 11):\n",
    "    print(\"{} x {} = {}\".format(x, i, x*i))"
   ]
  },
  {
   "cell_type": "markdown",
   "metadata": {},
   "source": [
    "### Q.2: Input 10 characters using while loop and count how many vowels are there."
   ]
  },
  {
   "cell_type": "code",
   "execution_count": 2,
   "metadata": {},
   "outputs": [
    {
     "name": "stdin",
     "output_type": "stream",
     "text": [
      "Enter a character:  k\n",
      "Enter a character:  u\n",
      "Enter a character:  n\n",
      "Enter a character:  a\n",
      "Enter a character:  l\n",
      "Enter a character:  s\n",
      "Enter a character:  a\n",
      "Enter a character:  h\n",
      "Enter a character:  o\n",
      "Enter a character:  o\n"
     ]
    },
    {
     "name": "stdout",
     "output_type": "stream",
     "text": [
      "Number of vowels: 5\n"
     ]
    }
   ],
   "source": [
    "i = 0\n",
    "count = 0\n",
    "while(i < 10):\n",
    "    ch = input(\"Enter a character: \")\n",
    "    if ch[0].lower() in 'aeiou':\n",
    "        count += 1\n",
    "    i += 1\n",
    "print(\"Number of vowels: {}\".format(count))"
   ]
  },
  {
   "cell_type": "markdown",
   "metadata": {},
   "source": [
    "### Q.3: Find sum of numbers from 1 to 100 which are divisible by either 2 or 3"
   ]
  },
  {
   "cell_type": "code",
   "execution_count": 3,
   "metadata": {},
   "outputs": [
    {
     "name": "stdout",
     "output_type": "stream",
     "text": [
      "3417\n"
     ]
    }
   ],
   "source": [
    "_sum = 0\n",
    "for i in range(1, 101):\n",
    "    if i % 2 == 0 or i % 3 == 0:\n",
    "        _sum += i\n",
    "print(_sum)"
   ]
  },
  {
   "cell_type": "markdown",
   "metadata": {},
   "source": [
    "### Q.4: Input a float number which will be the side of a square,  prompt user to enter a positive value if user inputs a  negative value. Finally calculate the area of the square."
   ]
  },
  {
   "cell_type": "code",
   "execution_count": 6,
   "metadata": {},
   "outputs": [
    {
     "name": "stdin",
     "output_type": "stream",
     "text": [
      "Enter a positive floating-point number as side of a square:  -23\n",
      "Enter a positive floating-point number as side of a square:  0\n",
      "Enter a positive floating-point number as side of a square:  12\n"
     ]
    },
    {
     "name": "stdout",
     "output_type": "stream",
     "text": [
      "Area of the square: 144.0\n"
     ]
    }
   ],
   "source": [
    "x = -1\n",
    "while x <= 0:\n",
    "    x = float(input(\"Enter a positive floating-point number as side of a square: \"))\n",
    "print(\"Area of the square: {}\".format(x**2))"
   ]
  }
 ],
 "metadata": {
  "kernelspec": {
   "display_name": "Python 3 (ipykernel)",
   "language": "python",
   "name": "python3"
  },
  "language_info": {
   "codemirror_mode": {
    "name": "ipython",
    "version": 3
   },
   "file_extension": ".py",
   "mimetype": "text/x-python",
   "name": "python",
   "nbconvert_exporter": "python",
   "pygments_lexer": "ipython3",
   "version": "3.9.7"
  }
 },
 "nbformat": 4,
 "nbformat_minor": 4
}
