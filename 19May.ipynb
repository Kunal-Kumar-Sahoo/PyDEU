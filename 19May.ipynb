{
 "cells": [
  {
   "cell_type": "markdown",
   "id": "13b78be6-5916-4395-9c87-38c7bab4c53d",
   "metadata": {},
   "source": [
    "# Sorting Algorithms:\n",
    "   * Bubble sorting\n",
    "   * Insertion sorting\n",
    "   * Selection sorting\n",
    "   * Merge sorting"
   ]
  },
  {
   "cell_type": "code",
   "execution_count": 5,
   "id": "c8bf1864-a7d4-4f9d-a8a5-747a9a48fa4a",
   "metadata": {},
   "outputs": [
    {
     "name": "stdout",
     "output_type": "stream",
     "text": [
      "Original array: [23, 11, 33, 8, -4, -5, 9, 35, 14, 1, 49, 32, 22, 33, 8, 45, 19, -8, 18, -7, 46, 5, 27, 46, 17, -5, 20, 31, -8, 33, 41, 9, 42, 46, 31, 42, 8, 18, 35, 24, 27, -2, 30, 25, 47, 5, 5, 43, 29, 20]\n",
      "Sorted array: [-8, -8, -7, -5, -5, -4, -2, 1, 5, 5, 5, 8, 8, 8, 9, 9, 11, 14, 17, 18, 18, 19, 20, 20, 22, 23, 24, 25, 27, 27, 29, 30, 31, 31, 32, 33, 33, 33, 35, 35, 41, 42, 42, 43, 45, 46, 46, 46, 47, 49]\n"
     ]
    }
   ],
   "source": [
    "# Bubble sorting:\n",
    "\n",
    "import random\n",
    "\n",
    "# Create a variable of random numbers\n",
    "arr = [random.randint(-10, 50) for _ in range(50)]\n",
    "\n",
    "def bubbleSort(arr):\n",
    "    for i in range(0, len(arr)):\n",
    "        swapped = False\n",
    "        for j in range(1, len(arr)-i):\n",
    "            if arr[j-1] > arr[j]:\n",
    "                arr[j-1], arr[j] = arr[j], arr[j-1]\n",
    "                swapped = True\n",
    "        if not swapped:\n",
    "            break\n",
    "    \n",
    "print('Original array: {}'.format(arr))\n",
    "bubbleSort(arr)\n",
    "print('Sorted array: {}'.format(arr))"
   ]
  },
  {
   "cell_type": "code",
   "execution_count": 6,
   "id": "2f697858-88bc-47f2-a1d9-03af6fa71afa",
   "metadata": {},
   "outputs": [
    {
     "name": "stdout",
     "output_type": "stream",
     "text": [
      "Original array: [32, 42, 42, 0, 8, 16, 0, 13, 34, 20, 39, 40, -4, 43, 15, 29, 18, -7, 5, 41, 35, 21, 44, 16, -4, 40, 1, 21, -10, 11, 45, 18, 48, 7, 42, -8, -8, 39, 11, 1, 1, 12, 6, 48, 0, 5, 20, 5, 25, -5]\n",
      "Sorted array: [-10, -8, -8, -7, -5, -4, -4, 0, 0, 0, 1, 1, 1, 5, 5, 5, 6, 7, 8, 11, 11, 12, 13, 15, 16, 16, 18, 18, 20, 20, 21, 21, 25, 29, 32, 34, 35, 39, 39, 40, 40, 41, 42, 42, 42, 43, 44, 45, 48, 48]\n"
     ]
    }
   ],
   "source": [
    "# Insertion sorting:\n",
    "\n",
    "arr = [random.randint(-10, 50) for _ in range(50)]\n",
    "\n",
    "def insertionSort(arr):\n",
    "    for i in range(1, len(arr)):\n",
    "        a = arr[i]\n",
    "        j = i-1\n",
    "        while j >= 0 and a < arr[j]:\n",
    "            arr[j+1] = arr[j]\n",
    "            j -= 1            \n",
    "        arr[j+1] = a\n",
    "        \n",
    "print('Original array: {}'.format(arr))\n",
    "insertionSort(arr)\n",
    "print('Sorted array: {}'.format(arr))\n"
   ]
  },
  {
   "cell_type": "code",
   "execution_count": 7,
   "id": "ac32d889-7d49-4938-866c-27efc81d730e",
   "metadata": {},
   "outputs": [
    {
     "name": "stdout",
     "output_type": "stream",
     "text": [
      "Original array: [12, 17, 31, -3, 7, 18, 1, 6, -7, 45, 36, 4, 20, 2, 46, 23, 0, 17, 17, 32, 21, 17, 23, -9, 5, 15, 14, 49, 10, 17, -7, 50, 0, 36, 19, 12, 26, 27, -3, 16, 10, 49, 24, -10, 7, 0, 38, 50, 13, 49]\n",
      "Sorted array: [-10, -9, -7, -7, -3, -3, 0, 0, 0, 1, 2, 4, 5, 6, 7, 7, 10, 10, 12, 12, 13, 14, 15, 16, 17, 17, 17, 17, 17, 18, 19, 20, 21, 23, 23, 24, 26, 27, 31, 32, 36, 36, 38, 45, 46, 49, 49, 49, 50, 50]\n"
     ]
    }
   ],
   "source": [
    "# Selection sorting:\n",
    "\n",
    "arr = [random.randint(-10, 50) for _ in range(50)]\n",
    "\n",
    "def selectionSort(arr):\n",
    "    for i in range(len(arr)):\n",
    "        min_idx = i\n",
    "        \n",
    "        for j in range(i+1, len(arr)):\n",
    "            if arr[min_idx] > arr[j]:\n",
    "                min_idx = j\n",
    "        arr[i], arr[min_idx] = arr[min_idx], arr[i]\n",
    "        \n",
    "print('Original array: {}'.format(arr))\n",
    "selectionSort(arr)\n",
    "print('Sorted array: {}'.format(arr))"
   ]
  },
  {
   "cell_type": "code",
   "execution_count": 9,
   "id": "5b589926-98bd-4a6d-be48-898a281cb633",
   "metadata": {},
   "outputs": [
    {
     "name": "stdout",
     "output_type": "stream",
     "text": [
      "Original array: [14, 46, 26, 35, -10, 5, 50, 10, -1, 6, 40, -2, -8, 50, 20, 32, -1, 40, 31, 41, -7, 44, 5, 30, 24, 26, -10, 12, 37, -1, 47, 45, 16, 42, -9, 12, -1, 44, -1, 41, -10, -10, 3, 20, 41, 34, 36, -4, 4, 20]\n",
      "Sorted array: [-10, -10, -10, -10, -9, -8, -7, -4, -2, -1, -1, -1, -1, -1, 3, 4, 5, 5, 6, 10, 12, 12, 14, 16, 20, 20, 20, 24, 26, 26, 30, 31, 32, 34, 35, 36, 37, 40, 40, 41, 41, 41, 42, 44, 44, 45, 46, 47, 50, 50]\n"
     ]
    }
   ],
   "source": [
    "# Merge sort\n",
    "\n",
    "arr = [random.randint(-10, 50) for _ in range(50)]\n",
    "\n",
    "def mergeSort(arr):\n",
    "    if len(arr) > 1:\n",
    "        mid = len(arr) // 2\n",
    "        left = arr[:mid]\n",
    "        right = arr[mid:]\n",
    "        \n",
    "        mergeSort(left)\n",
    "        mergeSort(right)\n",
    "        \n",
    "        i = j = k = 0\n",
    "        \n",
    "        while i < len(left) and j < len(right):\n",
    "            if left[i] < right[j]:\n",
    "                arr[k] = left[i]\n",
    "                i += 1\n",
    "            else:\n",
    "                arr[k] = right[j]\n",
    "                j += 1\n",
    "            k += 1 \n",
    "            \n",
    "        while i < len(left):\n",
    "            arr[k] = left[i]\n",
    "            i += 1\n",
    "            k += 1\n",
    "\n",
    "        while j < len(right):\n",
    "            arr[k] = right[j]\n",
    "            j += 1\n",
    "            k += 1\n",
    "        \n",
    "print('Original array: {}'.format(arr))\n",
    "mergeSort(arr)\n",
    "print('Sorted array: {}'.format(arr))"
   ]
  },
  {
   "cell_type": "code",
   "execution_count": null,
   "id": "93612575-33be-4dc1-848e-274548ef9e16",
   "metadata": {},
   "outputs": [],
   "source": []
  }
 ],
 "metadata": {
  "kernelspec": {
   "display_name": "Python 3 (ipykernel)",
   "language": "python",
   "name": "python3"
  },
  "language_info": {
   "codemirror_mode": {
    "name": "ipython",
    "version": 3
   },
   "file_extension": ".py",
   "mimetype": "text/x-python",
   "name": "python",
   "nbconvert_exporter": "python",
   "pygments_lexer": "ipython3",
   "version": "3.10.4"
  }
 },
 "nbformat": 4,
 "nbformat_minor": 5
}
