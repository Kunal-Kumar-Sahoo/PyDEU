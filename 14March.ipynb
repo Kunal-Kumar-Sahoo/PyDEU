{
 "cells": [
  {
   "cell_type": "markdown",
   "metadata": {},
   "source": [
    "# Assignment-2\n",
    "## ~Kunal Kumar Sahoo"
   ]
  },
  {
   "cell_type": "markdown",
   "metadata": {},
   "source": [
    "### Q.1: WAP to take two floats as input and print all the permutations of the applicable operators on them."
   ]
  },
  {
   "cell_type": "code",
   "execution_count": null,
   "metadata": {},
   "outputs": [],
   "source": [
    "x, y = map(float, input(\"Input two floating numbers: \").split())"
   ]
  },
  {
   "cell_type": "code",
   "execution_count": null,
   "metadata": {},
   "outputs": [],
   "source": [
    "print('x + y = {}'.format(x+y))\n",
    "print('x - y = {}'.format(x-y))\n",
    "print('x * y = {}'.format(x*y))\n",
    "print('x / y = {}'.format(x/y))\n",
    "print('x // y = {}'.format(x//y))\n",
    "print('x ** y = {}'.format(x**y))\n",
    "print('x % y = {}'.format(x % y))"
   ]
  },
  {
   "cell_type": "markdown",
   "metadata": {},
   "source": [
    "### Q.2. WAP to take 5 integer values as input and print the quotient and remainder when the maximum is divided by the minimum of them."
   ]
  },
  {
   "cell_type": "code",
   "execution_count": null,
   "metadata": {},
   "outputs": [],
   "source": [
    "arr = list(map(int, input(\"Enter 5 integers: \").split()))"
   ]
  },
  {
   "cell_type": "code",
   "execution_count": null,
   "metadata": {},
   "outputs": [],
   "source": [
    "min_ = min(arr)\n",
    "max_ = max(arr)"
   ]
  },
  {
   "cell_type": "code",
   "execution_count": null,
   "metadata": {},
   "outputs": [],
   "source": [
    "print(\"Quotient: {}\\nRemainder: {}\".format(max_ // min_, max_ % min_))"
   ]
  },
  {
   "cell_type": "markdown",
   "metadata": {},
   "source": [
    "### Q.3. WAP to take 2 float values, print the results of relational operators between them."
   ]
  },
  {
   "cell_type": "code",
   "execution_count": null,
   "metadata": {},
   "outputs": [],
   "source": [
    "x, y = map(float, input(\"Enter two floating point decimals: \").split())"
   ]
  },
  {
   "cell_type": "code",
   "execution_count": null,
   "metadata": {},
   "outputs": [],
   "source": [
    "print(\"x > y : {}\".format(x > y))\n",
    "print(\"x < y : {}\".format(x < y))\n",
    "print(\"x >= y : {}\".format(x >= y))\n",
    "print(\"x <= y : {}\".format(x <= y))\n",
    "print(\"x == y : {}\".format(x == y))\n",
    "print(\"x != y : {}\".format(x != y))"
   ]
  }
 ],
 "metadata": {
  "interpreter": {
   "hash": "fa23a78b834f4e66d456c98c34286e131f021872dae0f7a40898618171e2a7a2"
  },
  "kernelspec": {
   "display_name": "Python 3.10.2 ('venv': venv)",
   "language": "python",
   "name": "python3"
  },
  "language_info": {
   "codemirror_mode": {
    "name": "ipython",
    "version": 3
   },
   "file_extension": ".py",
   "mimetype": "text/x-python",
   "name": "python",
   "nbconvert_exporter": "python",
   "pygments_lexer": "ipython3",
   "version": "3.10.2"
  },
  "orig_nbformat": 4
 },
 "nbformat": 4,
 "nbformat_minor": 2
}
