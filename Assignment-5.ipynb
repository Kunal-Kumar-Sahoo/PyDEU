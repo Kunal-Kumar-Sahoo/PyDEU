{
 "cells": [
  {
   "cell_type": "markdown",
   "metadata": {
    "pycharm": {
     "name": "#%% md\n"
    }
   },
   "source": [
    "# Assignment-5\n",
    "### ~Kunal Kumar Sahoo\n",
    "\n",
    "## Aim: To implement concepts of Exceptional handling in Python"
   ]
  },
  {
   "cell_type": "markdown",
   "metadata": {
    "pycharm": {
     "name": "#%% md\n"
    }
   },
   "source": [
    "### Q.1: Write an exceptional handling program to handle the zero division error."
   ]
  },
  {
   "cell_type": "code",
   "execution_count": 14,
   "metadata": {
    "pycharm": {
     "name": "#%%\n"
    }
   },
   "outputs": [
    {
     "name": "stdout",
     "output_type": "stream",
     "text": [
      "Enter value of the dividend: 1\n",
      "Enter value of the divisor: 0\n",
      "Error: float division by zero\n"
     ]
    }
   ],
   "source": [
    "dividend = float(input('Enter value of the dividend: '))\n",
    "divisor = float(input('Enter value of the divisor: '))\n",
    "\n",
    "try:\n",
    "    print(dividend / divisor)\n",
    "except ZeroDivisionError as e:\n",
    "    print('Error: {}'.format(e))"
   ]
  },
  {
   "cell_type": "markdown",
   "metadata": {
    "pycharm": {
     "name": "#%% md\n"
    }
   },
   "source": [
    "### Q.2: Write an exceptional handling program to handle the errors while working with files."
   ]
  },
  {
   "cell_type": "code",
   "execution_count": 15,
   "metadata": {
    "pycharm": {
     "name": "#%%\n"
    }
   },
   "outputs": [
    {
     "name": "stdout",
     "output_type": "stream",
     "text": [
      "FileHandlingError: [Errno 2] No such file or directory: 'file.txt'\n"
     ]
    }
   ],
   "source": [
    "try:\n",
    "    f = open('file.txt', 'r')\n",
    "    content = f.read()\n",
    "    print(content)\n",
    "except IOError as e:\n",
    "    print('FileHandlingError: {}'.format(e))\n",
    "else:\n",
    "    f.close()\n",
    "    print('File closed succesfully')"
   ]
  },
  {
   "cell_type": "markdown",
   "metadata": {
    "pycharm": {
     "name": "#%% md\n"
    }
   },
   "source": [
    "### Q.3: Write an exceptional handling program to handle value error."
   ]
  },
  {
   "cell_type": "code",
   "execution_count": 16,
   "metadata": {
    "pycharm": {
     "name": "#%%\n"
    }
   },
   "outputs": [
    {
     "name": "stdout",
     "output_type": "stream",
     "text": [
      "Enter a positive integer: -12\n",
      "math domain error\n"
     ]
    }
   ],
   "source": [
    "from math import sqrt\n",
    "num = int(input('Enter a positive integer: '))\n",
    "try:\n",
    "    print(sqrt(num))\n",
    "except ValueError as e:\n",
    "    print(e)"
   ]
  }
 ],
 "metadata": {
  "kernelspec": {
   "display_name": "Python 3 (ipykernel)",
   "language": "python",
   "name": "python3"
  },
  "language_info": {
   "codemirror_mode": {
    "name": "ipython",
    "version": 3
   },
   "file_extension": ".py",
   "mimetype": "text/x-python",
   "name": "python",
   "nbconvert_exporter": "python",
   "pygments_lexer": "ipython3",
   "version": "3.10.4"
  }
 },
 "nbformat": 4,
 "nbformat_minor": 4
}
